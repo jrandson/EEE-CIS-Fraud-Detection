{
 "cells": [
  {
   "cell_type": "markdown",
   "metadata": {
    "colab_type": "text",
    "id": "CakQO-vT0mO4"
   },
   "source": [
    "#### If you are not using google colab ignore the cell bellow"
   ]
  },
  {
   "cell_type": "code",
   "execution_count": 0,
   "metadata": {
    "colab": {
     "base_uri": "https://localhost:8080/",
     "height": 122
    },
    "colab_type": "code",
    "id": "pxrttUrg-HHS",
    "outputId": "e64276d6-0d5f-417d-94e3-6b01501b309c"
   },
   "outputs": [
    {
     "name": "stdout",
     "output_type": "stream",
     "text": [
      "Go to this URL in a browser: https://accounts.google.com/o/oauth2/auth?client_id=947318989803-6bn6qk8qdgf4n4g3pfee6491hc0brc4i.apps.googleusercontent.com&redirect_uri=urn%3Aietf%3Awg%3Aoauth%3A2.0%3Aoob&scope=email%20https%3A%2F%2Fwww.googleapis.com%2Fauth%2Fdocs.test%20https%3A%2F%2Fwww.googleapis.com%2Fauth%2Fdrive%20https%3A%2F%2Fwww.googleapis.com%2Fauth%2Fdrive.photos.readonly%20https%3A%2F%2Fwww.googleapis.com%2Fauth%2Fpeopleapi.readonly&response_type=code\n",
      "\n",
      "Enter your authorization code:\n",
      "··········\n",
      "Mounted at /content/drive\n"
     ]
    }
   ],
   "source": [
    "# Load the Drive helper and mount\n",
    "from google.colab import drive\n",
    "\n",
    "# This will prompt for authorization.\n",
    "drive.mount('/content/drive')"
   ]
  },
  {
   "cell_type": "code",
   "execution_count": 0,
   "metadata": {
    "colab": {
     "base_uri": "https://localhost:8080/",
     "height": 34
    },
    "colab_type": "code",
    "id": "RYttLeIP-J1G",
    "outputId": "2c934e8a-1be2-4443-cd64-05590326bd08"
   },
   "outputs": [
    {
     "name": "stdout",
     "output_type": "stream",
     "text": [
      "final_data.csv\ttrain_identity.csv  train_transaction.csv\n"
     ]
    }
   ],
   "source": [
    "!ls 'drive/My Drive/Colab Notebooks/IEEE-CIS/ieee-fraud-detection'\n",
    "\n",
    "base_path = 'drive/My Drive/Colab Notebooks/IEEE-CIS/ieee-fraud-detection'"
   ]
  },
  {
   "cell_type": "code",
   "execution_count": 0,
   "metadata": {
    "colab": {},
    "colab_type": "code",
    "id": "o8oLVfek-NFM"
   },
   "outputs": [],
   "source": [
    "import pandas as pd\n",
    "import numpy as np\n",
    "import xgboost as xgb\n",
    "from sklearn.model_selection import train_test_split"
   ]
  },
  {
   "cell_type": "code",
   "execution_count": 0,
   "metadata": {
    "colab": {
     "base_uri": "https://localhost:8080/",
     "height": 321
    },
    "colab_type": "code",
    "id": "-opvxT4x-dMk",
    "outputId": "daed149f-3279-4ef4-ac6f-e5bf4c14ceb9"
   },
   "outputs": [
    {
     "name": "stdout",
     "output_type": "stream",
     "text": [
      "(590540, 502)\n"
     ]
    },
    {
     "data": {
      "text/html": [
       "<div>\n",
       "<style scoped>\n",
       "    .dataframe tbody tr th:only-of-type {\n",
       "        vertical-align: middle;\n",
       "    }\n",
       "\n",
       "    .dataframe tbody tr th {\n",
       "        vertical-align: top;\n",
       "    }\n",
       "\n",
       "    .dataframe thead th {\n",
       "        text-align: right;\n",
       "    }\n",
       "</style>\n",
       "<table border=\"1\" class=\"dataframe\">\n",
       "  <thead>\n",
       "    <tr style=\"text-align: right;\">\n",
       "      <th></th>\n",
       "      <th>isFraud</th>\n",
       "      <th>TransactionDT</th>\n",
       "      <th>TransactionAmt</th>\n",
       "      <th>C1</th>\n",
       "      <th>C2</th>\n",
       "      <th>C3</th>\n",
       "      <th>C4</th>\n",
       "      <th>C5</th>\n",
       "      <th>C6</th>\n",
       "      <th>C7</th>\n",
       "      <th>C8</th>\n",
       "      <th>C9</th>\n",
       "      <th>C10</th>\n",
       "      <th>C11</th>\n",
       "      <th>C12</th>\n",
       "      <th>C13</th>\n",
       "      <th>C14</th>\n",
       "      <th>D1</th>\n",
       "      <th>D2</th>\n",
       "      <th>D3</th>\n",
       "      <th>D4</th>\n",
       "      <th>D5</th>\n",
       "      <th>D6</th>\n",
       "      <th>D8</th>\n",
       "      <th>D9</th>\n",
       "      <th>D10</th>\n",
       "      <th>D11</th>\n",
       "      <th>D12</th>\n",
       "      <th>D13</th>\n",
       "      <th>D14</th>\n",
       "      <th>D15</th>\n",
       "      <th>V1</th>\n",
       "      <th>V2</th>\n",
       "      <th>V3</th>\n",
       "      <th>V4</th>\n",
       "      <th>V5</th>\n",
       "      <th>V6</th>\n",
       "      <th>V7</th>\n",
       "      <th>V8</th>\n",
       "      <th>V9</th>\n",
       "      <th>...</th>\n",
       "      <th>id_28-None</th>\n",
       "      <th>id_29-Found</th>\n",
       "      <th>id_29-None</th>\n",
       "      <th>id_29-NotFound</th>\n",
       "      <th>id_30-Android</th>\n",
       "      <th>id_30-Linux</th>\n",
       "      <th>id_30-Mac-OS</th>\n",
       "      <th>id_30-None</th>\n",
       "      <th>id_30-Windows</th>\n",
       "      <th>id_30-iOS</th>\n",
       "      <th>id_30-other</th>\n",
       "      <th>id_31-None</th>\n",
       "      <th>id_31-chrome</th>\n",
       "      <th>id_31-chrome-for-android</th>\n",
       "      <th>id_31-chrome-for-ios</th>\n",
       "      <th>id_31-edge</th>\n",
       "      <th>id_31-firefox</th>\n",
       "      <th>id_31-ie-for-desktop</th>\n",
       "      <th>id_31-ie-for-tablet</th>\n",
       "      <th>id_31-opera</th>\n",
       "      <th>id_31-other</th>\n",
       "      <th>id_31-safari</th>\n",
       "      <th>id_31-samsung</th>\n",
       "      <th>id_34-None</th>\n",
       "      <th>id_34-match_status:-1</th>\n",
       "      <th>id_34-match_status:0</th>\n",
       "      <th>id_34-match_status:1</th>\n",
       "      <th>id_34-match_status:2</th>\n",
       "      <th>id_35-F</th>\n",
       "      <th>id_35-None</th>\n",
       "      <th>id_35-T</th>\n",
       "      <th>id_36-F</th>\n",
       "      <th>id_36-None</th>\n",
       "      <th>id_36-T</th>\n",
       "      <th>id_37-F</th>\n",
       "      <th>id_37-None</th>\n",
       "      <th>id_37-T</th>\n",
       "      <th>id_38-F</th>\n",
       "      <th>id_38-None</th>\n",
       "      <th>id_38-T</th>\n",
       "    </tr>\n",
       "  </thead>\n",
       "  <tbody>\n",
       "    <tr>\n",
       "      <th>0</th>\n",
       "      <td>0</td>\n",
       "      <td>86400</td>\n",
       "      <td>68.5</td>\n",
       "      <td>1.0</td>\n",
       "      <td>1.0</td>\n",
       "      <td>0.0</td>\n",
       "      <td>0.0</td>\n",
       "      <td>0.0</td>\n",
       "      <td>1.0</td>\n",
       "      <td>0.0</td>\n",
       "      <td>0.0</td>\n",
       "      <td>1.0</td>\n",
       "      <td>0.0</td>\n",
       "      <td>2.0</td>\n",
       "      <td>0.0</td>\n",
       "      <td>1.0</td>\n",
       "      <td>1.0</td>\n",
       "      <td>14.0</td>\n",
       "      <td>169.563231</td>\n",
       "      <td>13.000000</td>\n",
       "      <td>140.002441</td>\n",
       "      <td>42.335965</td>\n",
       "      <td>69.805717</td>\n",
       "      <td>146.058108</td>\n",
       "      <td>0.561057</td>\n",
       "      <td>13.000000</td>\n",
       "      <td>13.000000</td>\n",
       "      <td>54.037533</td>\n",
       "      <td>17.901295</td>\n",
       "      <td>57.724444</td>\n",
       "      <td>0.000000</td>\n",
       "      <td>1.000000</td>\n",
       "      <td>1.000000</td>\n",
       "      <td>1.000000</td>\n",
       "      <td>1.000000</td>\n",
       "      <td>1.000000</td>\n",
       "      <td>1.000000</td>\n",
       "      <td>1.00000</td>\n",
       "      <td>1.000000</td>\n",
       "      <td>1.000000</td>\n",
       "      <td>...</td>\n",
       "      <td>0.022568</td>\n",
       "      <td>0.519479</td>\n",
       "      <td>0.022568</td>\n",
       "      <td>0.457953</td>\n",
       "      <td>0.0437</td>\n",
       "      <td>0.007876</td>\n",
       "      <td>0.092052</td>\n",
       "      <td>0.462224</td>\n",
       "      <td>0.25472</td>\n",
       "      <td>0.137153</td>\n",
       "      <td>0.002274</td>\n",
       "      <td>0.027393</td>\n",
       "      <td>0.378783</td>\n",
       "      <td>0.14462</td>\n",
       "      <td>0.003931</td>\n",
       "      <td>0.043977</td>\n",
       "      <td>0.043943</td>\n",
       "      <td>0.062607</td>\n",
       "      <td>0.004486</td>\n",
       "      <td>0.003113</td>\n",
       "      <td>0.019704</td>\n",
       "      <td>0.253382</td>\n",
       "      <td>0.014061</td>\n",
       "      <td>0.46056</td>\n",
       "      <td>0.000021</td>\n",
       "      <td>0.002877</td>\n",
       "      <td>0.120472</td>\n",
       "      <td>0.41607</td>\n",
       "      <td>0.437979</td>\n",
       "      <td>0.022519</td>\n",
       "      <td>0.539502</td>\n",
       "      <td>0.92951</td>\n",
       "      <td>0.022519</td>\n",
       "      <td>0.047971</td>\n",
       "      <td>0.211692</td>\n",
       "      <td>0.022519</td>\n",
       "      <td>0.765789</td>\n",
       "      <td>0.512518</td>\n",
       "      <td>0.022519</td>\n",
       "      <td>0.464963</td>\n",
       "    </tr>\n",
       "    <tr>\n",
       "      <th>1</th>\n",
       "      <td>0</td>\n",
       "      <td>86401</td>\n",
       "      <td>29.0</td>\n",
       "      <td>1.0</td>\n",
       "      <td>1.0</td>\n",
       "      <td>0.0</td>\n",
       "      <td>0.0</td>\n",
       "      <td>0.0</td>\n",
       "      <td>1.0</td>\n",
       "      <td>0.0</td>\n",
       "      <td>0.0</td>\n",
       "      <td>0.0</td>\n",
       "      <td>0.0</td>\n",
       "      <td>1.0</td>\n",
       "      <td>0.0</td>\n",
       "      <td>1.0</td>\n",
       "      <td>1.0</td>\n",
       "      <td>0.0</td>\n",
       "      <td>169.563231</td>\n",
       "      <td>28.343348</td>\n",
       "      <td>0.000000</td>\n",
       "      <td>42.335965</td>\n",
       "      <td>69.805717</td>\n",
       "      <td>146.058108</td>\n",
       "      <td>0.561057</td>\n",
       "      <td>0.000000</td>\n",
       "      <td>146.621465</td>\n",
       "      <td>54.037533</td>\n",
       "      <td>17.901295</td>\n",
       "      <td>57.724444</td>\n",
       "      <td>0.000000</td>\n",
       "      <td>0.999945</td>\n",
       "      <td>1.045204</td>\n",
       "      <td>1.078075</td>\n",
       "      <td>0.846456</td>\n",
       "      <td>0.876991</td>\n",
       "      <td>1.045686</td>\n",
       "      <td>1.07287</td>\n",
       "      <td>1.027704</td>\n",
       "      <td>1.041529</td>\n",
       "      <td>...</td>\n",
       "      <td>0.022568</td>\n",
       "      <td>0.519479</td>\n",
       "      <td>0.022568</td>\n",
       "      <td>0.457953</td>\n",
       "      <td>0.0437</td>\n",
       "      <td>0.007876</td>\n",
       "      <td>0.092052</td>\n",
       "      <td>0.462224</td>\n",
       "      <td>0.25472</td>\n",
       "      <td>0.137153</td>\n",
       "      <td>0.002274</td>\n",
       "      <td>0.027393</td>\n",
       "      <td>0.378783</td>\n",
       "      <td>0.14462</td>\n",
       "      <td>0.003931</td>\n",
       "      <td>0.043977</td>\n",
       "      <td>0.043943</td>\n",
       "      <td>0.062607</td>\n",
       "      <td>0.004486</td>\n",
       "      <td>0.003113</td>\n",
       "      <td>0.019704</td>\n",
       "      <td>0.253382</td>\n",
       "      <td>0.014061</td>\n",
       "      <td>0.46056</td>\n",
       "      <td>0.000021</td>\n",
       "      <td>0.002877</td>\n",
       "      <td>0.120472</td>\n",
       "      <td>0.41607</td>\n",
       "      <td>0.437979</td>\n",
       "      <td>0.022519</td>\n",
       "      <td>0.539502</td>\n",
       "      <td>0.92951</td>\n",
       "      <td>0.022519</td>\n",
       "      <td>0.047971</td>\n",
       "      <td>0.211692</td>\n",
       "      <td>0.022519</td>\n",
       "      <td>0.765789</td>\n",
       "      <td>0.512518</td>\n",
       "      <td>0.022519</td>\n",
       "      <td>0.464963</td>\n",
       "    </tr>\n",
       "    <tr>\n",
       "      <th>2</th>\n",
       "      <td>0</td>\n",
       "      <td>86469</td>\n",
       "      <td>59.0</td>\n",
       "      <td>1.0</td>\n",
       "      <td>1.0</td>\n",
       "      <td>0.0</td>\n",
       "      <td>0.0</td>\n",
       "      <td>0.0</td>\n",
       "      <td>1.0</td>\n",
       "      <td>0.0</td>\n",
       "      <td>0.0</td>\n",
       "      <td>1.0</td>\n",
       "      <td>0.0</td>\n",
       "      <td>1.0</td>\n",
       "      <td>0.0</td>\n",
       "      <td>1.0</td>\n",
       "      <td>1.0</td>\n",
       "      <td>0.0</td>\n",
       "      <td>169.563231</td>\n",
       "      <td>28.343348</td>\n",
       "      <td>0.000000</td>\n",
       "      <td>42.335965</td>\n",
       "      <td>69.805717</td>\n",
       "      <td>146.058108</td>\n",
       "      <td>0.561057</td>\n",
       "      <td>0.000000</td>\n",
       "      <td>315.000000</td>\n",
       "      <td>54.037533</td>\n",
       "      <td>17.901295</td>\n",
       "      <td>57.724444</td>\n",
       "      <td>315.000000</td>\n",
       "      <td>1.000000</td>\n",
       "      <td>1.000000</td>\n",
       "      <td>1.000000</td>\n",
       "      <td>1.000000</td>\n",
       "      <td>1.000000</td>\n",
       "      <td>1.000000</td>\n",
       "      <td>1.00000</td>\n",
       "      <td>1.000000</td>\n",
       "      <td>1.000000</td>\n",
       "      <td>...</td>\n",
       "      <td>0.022568</td>\n",
       "      <td>0.519479</td>\n",
       "      <td>0.022568</td>\n",
       "      <td>0.457953</td>\n",
       "      <td>0.0437</td>\n",
       "      <td>0.007876</td>\n",
       "      <td>0.092052</td>\n",
       "      <td>0.462224</td>\n",
       "      <td>0.25472</td>\n",
       "      <td>0.137153</td>\n",
       "      <td>0.002274</td>\n",
       "      <td>0.027393</td>\n",
       "      <td>0.378783</td>\n",
       "      <td>0.14462</td>\n",
       "      <td>0.003931</td>\n",
       "      <td>0.043977</td>\n",
       "      <td>0.043943</td>\n",
       "      <td>0.062607</td>\n",
       "      <td>0.004486</td>\n",
       "      <td>0.003113</td>\n",
       "      <td>0.019704</td>\n",
       "      <td>0.253382</td>\n",
       "      <td>0.014061</td>\n",
       "      <td>0.46056</td>\n",
       "      <td>0.000021</td>\n",
       "      <td>0.002877</td>\n",
       "      <td>0.120472</td>\n",
       "      <td>0.41607</td>\n",
       "      <td>0.437979</td>\n",
       "      <td>0.022519</td>\n",
       "      <td>0.539502</td>\n",
       "      <td>0.92951</td>\n",
       "      <td>0.022519</td>\n",
       "      <td>0.047971</td>\n",
       "      <td>0.211692</td>\n",
       "      <td>0.022519</td>\n",
       "      <td>0.765789</td>\n",
       "      <td>0.512518</td>\n",
       "      <td>0.022519</td>\n",
       "      <td>0.464963</td>\n",
       "    </tr>\n",
       "    <tr>\n",
       "      <th>3</th>\n",
       "      <td>0</td>\n",
       "      <td>86499</td>\n",
       "      <td>50.0</td>\n",
       "      <td>2.0</td>\n",
       "      <td>5.0</td>\n",
       "      <td>0.0</td>\n",
       "      <td>0.0</td>\n",
       "      <td>0.0</td>\n",
       "      <td>4.0</td>\n",
       "      <td>0.0</td>\n",
       "      <td>0.0</td>\n",
       "      <td>1.0</td>\n",
       "      <td>0.0</td>\n",
       "      <td>1.0</td>\n",
       "      <td>0.0</td>\n",
       "      <td>25.0</td>\n",
       "      <td>1.0</td>\n",
       "      <td>112.0</td>\n",
       "      <td>112.000000</td>\n",
       "      <td>0.000000</td>\n",
       "      <td>94.000000</td>\n",
       "      <td>0.000000</td>\n",
       "      <td>69.805717</td>\n",
       "      <td>146.058108</td>\n",
       "      <td>0.561057</td>\n",
       "      <td>84.000000</td>\n",
       "      <td>146.621465</td>\n",
       "      <td>54.037533</td>\n",
       "      <td>17.901295</td>\n",
       "      <td>57.724444</td>\n",
       "      <td>111.000000</td>\n",
       "      <td>0.999945</td>\n",
       "      <td>1.045204</td>\n",
       "      <td>1.078075</td>\n",
       "      <td>0.846456</td>\n",
       "      <td>0.876991</td>\n",
       "      <td>1.045686</td>\n",
       "      <td>1.07287</td>\n",
       "      <td>1.027704</td>\n",
       "      <td>1.041529</td>\n",
       "      <td>...</td>\n",
       "      <td>0.022568</td>\n",
       "      <td>0.519479</td>\n",
       "      <td>0.022568</td>\n",
       "      <td>0.457953</td>\n",
       "      <td>0.0437</td>\n",
       "      <td>0.007876</td>\n",
       "      <td>0.092052</td>\n",
       "      <td>0.462224</td>\n",
       "      <td>0.25472</td>\n",
       "      <td>0.137153</td>\n",
       "      <td>0.002274</td>\n",
       "      <td>0.027393</td>\n",
       "      <td>0.378783</td>\n",
       "      <td>0.14462</td>\n",
       "      <td>0.003931</td>\n",
       "      <td>0.043977</td>\n",
       "      <td>0.043943</td>\n",
       "      <td>0.062607</td>\n",
       "      <td>0.004486</td>\n",
       "      <td>0.003113</td>\n",
       "      <td>0.019704</td>\n",
       "      <td>0.253382</td>\n",
       "      <td>0.014061</td>\n",
       "      <td>0.46056</td>\n",
       "      <td>0.000021</td>\n",
       "      <td>0.002877</td>\n",
       "      <td>0.120472</td>\n",
       "      <td>0.41607</td>\n",
       "      <td>0.437979</td>\n",
       "      <td>0.022519</td>\n",
       "      <td>0.539502</td>\n",
       "      <td>0.92951</td>\n",
       "      <td>0.022519</td>\n",
       "      <td>0.047971</td>\n",
       "      <td>0.211692</td>\n",
       "      <td>0.022519</td>\n",
       "      <td>0.765789</td>\n",
       "      <td>0.512518</td>\n",
       "      <td>0.022519</td>\n",
       "      <td>0.464963</td>\n",
       "    </tr>\n",
       "    <tr>\n",
       "      <th>4</th>\n",
       "      <td>0</td>\n",
       "      <td>86506</td>\n",
       "      <td>50.0</td>\n",
       "      <td>1.0</td>\n",
       "      <td>1.0</td>\n",
       "      <td>0.0</td>\n",
       "      <td>0.0</td>\n",
       "      <td>0.0</td>\n",
       "      <td>1.0</td>\n",
       "      <td>0.0</td>\n",
       "      <td>1.0</td>\n",
       "      <td>0.0</td>\n",
       "      <td>1.0</td>\n",
       "      <td>1.0</td>\n",
       "      <td>0.0</td>\n",
       "      <td>1.0</td>\n",
       "      <td>1.0</td>\n",
       "      <td>0.0</td>\n",
       "      <td>169.563231</td>\n",
       "      <td>28.343348</td>\n",
       "      <td>140.002441</td>\n",
       "      <td>42.335965</td>\n",
       "      <td>69.805717</td>\n",
       "      <td>146.058108</td>\n",
       "      <td>0.561057</td>\n",
       "      <td>123.982137</td>\n",
       "      <td>146.621465</td>\n",
       "      <td>54.037533</td>\n",
       "      <td>17.901295</td>\n",
       "      <td>57.724444</td>\n",
       "      <td>163.744579</td>\n",
       "      <td>0.999945</td>\n",
       "      <td>1.045204</td>\n",
       "      <td>1.078075</td>\n",
       "      <td>0.846456</td>\n",
       "      <td>0.876991</td>\n",
       "      <td>1.045686</td>\n",
       "      <td>1.07287</td>\n",
       "      <td>1.027704</td>\n",
       "      <td>1.041529</td>\n",
       "      <td>...</td>\n",
       "      <td>0.000000</td>\n",
       "      <td>0.000000</td>\n",
       "      <td>0.000000</td>\n",
       "      <td>1.000000</td>\n",
       "      <td>1.0000</td>\n",
       "      <td>0.000000</td>\n",
       "      <td>0.000000</td>\n",
       "      <td>0.000000</td>\n",
       "      <td>0.00000</td>\n",
       "      <td>0.000000</td>\n",
       "      <td>0.000000</td>\n",
       "      <td>0.000000</td>\n",
       "      <td>0.000000</td>\n",
       "      <td>0.00000</td>\n",
       "      <td>0.000000</td>\n",
       "      <td>0.000000</td>\n",
       "      <td>0.000000</td>\n",
       "      <td>0.000000</td>\n",
       "      <td>0.000000</td>\n",
       "      <td>0.000000</td>\n",
       "      <td>0.000000</td>\n",
       "      <td>0.000000</td>\n",
       "      <td>1.000000</td>\n",
       "      <td>0.00000</td>\n",
       "      <td>0.000000</td>\n",
       "      <td>0.000000</td>\n",
       "      <td>0.000000</td>\n",
       "      <td>1.00000</td>\n",
       "      <td>0.000000</td>\n",
       "      <td>0.000000</td>\n",
       "      <td>1.000000</td>\n",
       "      <td>1.00000</td>\n",
       "      <td>0.000000</td>\n",
       "      <td>0.000000</td>\n",
       "      <td>0.000000</td>\n",
       "      <td>0.000000</td>\n",
       "      <td>1.000000</td>\n",
       "      <td>0.000000</td>\n",
       "      <td>0.000000</td>\n",
       "      <td>1.000000</td>\n",
       "    </tr>\n",
       "  </tbody>\n",
       "</table>\n",
       "<p>5 rows × 502 columns</p>\n",
       "</div>"
      ],
      "text/plain": [
       "   isFraud  TransactionDT  TransactionAmt  ...   id_38-F  id_38-None   id_38-T\n",
       "0        0          86400            68.5  ...  0.512518    0.022519  0.464963\n",
       "1        0          86401            29.0  ...  0.512518    0.022519  0.464963\n",
       "2        0          86469            59.0  ...  0.512518    0.022519  0.464963\n",
       "3        0          86499            50.0  ...  0.512518    0.022519  0.464963\n",
       "4        0          86506            50.0  ...  0.000000    0.000000  1.000000\n",
       "\n",
       "[5 rows x 502 columns]"
      ]
     },
     "execution_count": 4,
     "metadata": {
      "tags": []
     },
     "output_type": "execute_result"
    }
   ],
   "source": [
    "df = pd.read_csv(base_path + \"/final_data.csv\").drop(\"TransactionID\", axis=1)\n",
    "\n",
    "print(df.shape)\n",
    "df.head()"
   ]
  },
  {
   "cell_type": "markdown",
   "metadata": {
    "colab_type": "text",
    "id": "8VDm9xOEHlvn"
   },
   "source": [
    "##  Up sampling"
   ]
  },
  {
   "cell_type": "code",
   "execution_count": 0,
   "metadata": {
    "colab": {
     "base_uri": "https://localhost:8080/",
     "height": 153
    },
    "colab_type": "code",
    "id": "eqG3p-f-HklW",
    "outputId": "6d2bccc4-8d34-422e-fb04-7dd49b7bcd44"
   },
   "outputs": [
    {
     "name": "stdout",
     "output_type": "stream",
     "text": [
      "20663\n",
      "590540\n",
      "13\n",
      "(289282, 502)\n",
      "(401954, 501)\n",
      "(172266, 501)\n",
      "(401954,)\n",
      "(172266,)\n"
     ]
    }
   ],
   "source": [
    "df_fraud = df[df.isFraud == 1]\n",
    "n_fraud = df_fraud.shape[0]\n",
    "df_non_fraud = df[df.isFraud == 0].sample(frac=0.5)\n",
    "n_non_fraud = df_non_fraud.shape[0]\n",
    "\n",
    "print(n_fraud)\n",
    "print(df.shape[0])\n",
    "print(int(n_non_fraud / n_fraud))\n",
    "\n",
    "replicated_fraud = pd.concat([df_fraud for _ in range(int(n_non_fraud / n_fraud)+1)])\n",
    "print(replicated_fraud.shape)\n",
    "\n",
    "del df_fraud\n",
    "\n",
    "df_augumentated = pd.concat([replicated_fraud, df_non_fraud]).sample(frac=1.)\n",
    "\n",
    "del replicated_fraud\n",
    "del df_non_fraud\n",
    "\n",
    "y = df_augumentated.isFraud.values\n",
    "X = df_augumentated.drop(\"isFraud\", axis=1).values\n",
    "\n",
    "X_train, X_test, y_train, y_test = train_test_split(X, y, test_size=0.3)\n",
    "\n",
    "del df_augumentated\n",
    "del df\n",
    "\n",
    "print(X_train.shape)\n",
    "print(X_test.shape)\n",
    "print(y_train.shape)\n",
    "print(y_test.shape)"
   ]
  },
  {
   "cell_type": "markdown",
   "metadata": {
    "colab_type": "text",
    "id": "1daITbWjHf3X"
   },
   "source": [
    "## under sampling"
   ]
  },
  {
   "cell_type": "code",
   "execution_count": 0,
   "metadata": {
    "colab": {},
    "colab_type": "code",
    "id": "cnFXDJyOkHZU"
   },
   "outputs": [],
   "source": [
    " \n",
    "\n",
    "# n_fraud = df[df.isFraud == 1].shape[0]\n",
    "# df_fraud = df[df.isFraud == 1]\n",
    "# df_non_fraud = df[df.isFraud == 0].sample(n=n_fraud)\n",
    "# df_sample = pd.concat([df_fraud, df_non_fraud]).sample(frac=1.0)\n",
    "\n",
    "# y = df_sample.isFraud.values\n",
    "# X = df_sample.drop(\"isFraud\", axis=1).values\n",
    "\n",
    "# X_train, X_test, y_train,  y_test = train_test_split(X, y, test_size=0.3)\n",
    "\n",
    "# del df_sample\n",
    "\n",
    "# print(X_train.shape)\n",
    "# print(X_test.shape)\n",
    "# print(y_train.shape)\n",
    "# print(y_test.shape)"
   ]
  },
  {
   "cell_type": "code",
   "execution_count": 0,
   "metadata": {
    "colab": {
     "base_uri": "https://localhost:8080/",
     "height": 102
    },
    "colab_type": "code",
    "id": "6ZvzdHWZCMtw",
    "outputId": "58474755-b3d2-40dc-ac92-a6248fc548bd"
   },
   "outputs": [
    {
     "name": "stdout",
     "output_type": "stream",
     "text": [
      "0.5033784960468113\n",
      "0.49662150395318866\n",
      "\n",
      "0.5047252504847155\n",
      "0.4952747495152845\n"
     ]
    }
   ],
   "source": [
    "#verifying the whether the datset is balanced\n",
    "print(y_train[y_train == 1].shape[0]/y_train.shape[0])\n",
    "print(y_train[y_train == 0].shape[0]/y_train.shape[0])\n",
    "print()\n",
    "print(y_test[y_test == 1].shape[0]/y_test.shape[0])\n",
    "print(y_test[y_test == 0].shape[0]/y_test.shape[0])"
   ]
  },
  {
   "cell_type": "code",
   "execution_count": 0,
   "metadata": {
    "colab": {
     "base_uri": "https://localhost:8080/",
     "height": 136
    },
    "colab_type": "code",
    "id": "-_U2ZomrNd3k",
    "outputId": "fa2de7f9-5daa-4509-8067-7ab08aaeda8f"
   },
   "outputs": [
    {
     "data": {
      "text/plain": [
       "XGBClassifier(base_score=0.5, booster='gbtree', colsample_bylevel=1,\n",
       "              colsample_bynode=1, colsample_bytree=1, gamma=0,\n",
       "              learning_rate=0.01, max_delta_step=0, max_depth=12,\n",
       "              min_child_weight=1, missing=None, n_estimators=300, n_jobs=1,\n",
       "              nthread=None, objective='binary:logistic', random_state=0,\n",
       "              reg_alpha=0, reg_lambda=0.01, scale_pos_weight=1, seed=None,\n",
       "              silent=None, subsample=1, verbosity=1)"
      ]
     },
     "execution_count": 8,
     "metadata": {
      "tags": []
     },
     "output_type": "execute_result"
    }
   ],
   "source": [
    "gbm = xgb.XGBClassifier(base_score=0.5, booster='gbtree', \n",
    "               gamma=0, learning_rate=0.01, max_delta_step=0, max_depth=12,\n",
    "              min_child_weight=1, missing=None, n_estimators=300, n_jobs=1,\n",
    "              nthread=None, objective='binary:logistic', random_state=0,\n",
    "              reg_alpha=0, reg_lambda=0.01, scale_pos_weight=1, seed=None,\n",
    "              subsample=1,  verbosity=1)\n",
    "\n",
    "gbm\n"
   ]
  },
  {
   "cell_type": "code",
   "execution_count": 0,
   "metadata": {
    "colab": {
     "base_uri": "https://localhost:8080/",
     "height": 34
    },
    "colab_type": "code",
    "id": "VZM0Vl48OpXe",
    "outputId": "0ab7639d-7bfa-4c12-e8be-0a1087382ce5"
   },
   "outputs": [
    {
     "name": "stdout",
     "output_type": "stream",
     "text": [
      "6063.394356966019 seconds elapsed\n"
     ]
    }
   ],
   "source": [
    "import time\n",
    "\n",
    "t = time.time()\n",
    "gbm.fit(X_train, y_train)\n",
    "\n",
    "print(\"{} seconds elapsed\".format(time.time() - t))"
   ]
  },
  {
   "cell_type": "code",
   "execution_count": 0,
   "metadata": {
    "colab": {
     "base_uri": "https://localhost:8080/",
     "height": 34
    },
    "colab_type": "code",
    "id": "lwfEzB_uBfOn",
    "outputId": "35c54cc1-be54-439d-a044-a7d500242737"
   },
   "outputs": [
    {
     "data": {
      "text/plain": [
       "101.05"
      ]
     },
     "execution_count": 17,
     "metadata": {
      "tags": []
     },
     "output_type": "execute_result"
    }
   ],
   "source": [
    "6063/60"
   ]
  },
  {
   "cell_type": "code",
   "execution_count": 0,
   "metadata": {
    "colab": {},
    "colab_type": "code",
    "id": "7jWX4IA7OCJX"
   },
   "outputs": [],
   "source": [
    "y_pred = gbm.predict(X_test)\n",
    "y_score = gbm.predict_proba(X_test)"
   ]
  },
  {
   "cell_type": "code",
   "execution_count": 0,
   "metadata": {
    "colab": {
     "base_uri": "https://localhost:8080/",
     "height": 34
    },
    "colab_type": "code",
    "id": "WzP2ZsN04yqd",
    "outputId": "ca116488-9804-47da-dd10-2ae17b10a45f"
   },
   "outputs": [
    {
     "data": {
      "text/plain": [
       "array([0, 1, 1, ..., 0, 1, 0])"
      ]
     },
     "execution_count": 11,
     "metadata": {
      "tags": []
     },
     "output_type": "execute_result"
    }
   ],
   "source": [
    "y_pred"
   ]
  },
  {
   "cell_type": "code",
   "execution_count": 0,
   "metadata": {
    "colab": {
     "base_uri": "https://localhost:8080/",
     "height": 170
    },
    "colab_type": "code",
    "id": "LSvNJsTAgSMW",
    "outputId": "5719b9e4-15ad-44db-b93f-5be62ac84c96"
   },
   "outputs": [
    {
     "name": "stdout",
     "output_type": "stream",
     "text": [
      "              precision    recall  f1-score   support\n",
      "\n",
      "   Non-Fraud       0.89      0.93      0.91     85319\n",
      "       Fraud       0.93      0.88      0.91     86947\n",
      "\n",
      "    accuracy                           0.91    172266\n",
      "   macro avg       0.91      0.91      0.91    172266\n",
      "weighted avg       0.91      0.91      0.91    172266\n",
      "\n"
     ]
    }
   ],
   "source": [
    "from sklearn.metrics import classification_report\n",
    "\n",
    "target_names = ['Non-Fraud', 'Fraud']\n",
    "\n",
    "print(classification_report(y_test, y_pred, target_names=target_names))"
   ]
  },
  {
   "cell_type": "code",
   "execution_count": 0,
   "metadata": {
    "colab": {
     "base_uri": "https://localhost:8080/",
     "height": 34
    },
    "colab_type": "code",
    "id": "41wI0DZmf6-b",
    "outputId": "1e2d686c-ba20-425f-d0c2-7a4e55f0f740"
   },
   "outputs": [
    {
     "name": "stdout",
     "output_type": "stream",
     "text": [
      "ohen kappa: 0.8135472983661869\n"
     ]
    }
   ],
   "source": [
    "# kappa score\n",
    "from sklearn.metrics import cohen_kappa_score\n",
    "kappa = cohen_kappa_score(y_test, y_pred)\n",
    "print(\"ohen kappa: {}\".format(kappa))"
   ]
  },
  {
   "cell_type": "markdown",
   "metadata": {
    "colab_type": "text",
    "id": "xirAWU363hw-"
   },
   "source": [
    "# Computing the confusion Matrix"
   ]
  },
  {
   "cell_type": "code",
   "execution_count": 0,
   "metadata": {
    "colab": {
     "base_uri": "https://localhost:8080/",
     "height": 628
    },
    "colab_type": "code",
    "id": "3f4vZXOa2yyo",
    "outputId": "fb8075cf-2e5f-43db-8ac9-76890de30796"
   },
   "outputs": [
    {
     "name": "stdout",
     "output_type": "stream",
     "text": [
      "Automatically created module for IPython interactive environment\n",
      "Confusion matrix, without normalization\n",
      "Normalized confusion matrix\n"
     ]
    },
    {
     "data": {
      "image/png": "[encoded data removed]",
      "text/plain": [
       "<Figure size 432x288 with 2 Axes>"
      ]
     },
     "metadata": {
      "tags": []
     },
     "output_type": "display_data"
    },
    {
     "data": {
      "image/png": "[encoded data removed]",
      "text/plain": [
       "<Figure size 432x288 with 2 Axes>"
      ]
     },
     "metadata": {
      "tags": []
     },
     "output_type": "display_data"
    }
   ],
   "source": [
    "print(__doc__)\n",
    "\n",
    "import itertools\n",
    "import numpy as np\n",
    "import matplotlib.pyplot as plt\n",
    "\n",
    "from sklearn import svm, datasets\n",
    "from sklearn.model_selection import train_test_split\n",
    "from sklearn.metrics import confusion_matrix\n",
    "\n",
    "\n",
    "def plot_confusion_matrix(cm, classes,\n",
    "                          normalize=False,\n",
    "                          title='Confusion matrix',\n",
    "                          cmap=plt.cm.Blues):\n",
    "    \"\"\"\n",
    "    This function prints and plots the confusion matrix.\n",
    "    Normalization can be applied by setting `normalize=True`.\n",
    "    \"\"\"\n",
    "    if normalize:\n",
    "        cm = cm.astype('float') / cm.sum(axis=1)[:, np.newaxis]\n",
    "        print(\"Normalized confusion matrix\")\n",
    "    else:\n",
    "        print('Confusion matrix, without normalization')\n",
    "\n",
    "\n",
    "    plt.imshow(cm, interpolation='nearest', cmap=cmap)\n",
    "    plt.title(title)\n",
    "    plt.colorbar()\n",
    "    tick_marks = np.arange(len(classes))\n",
    "    plt.xticks(tick_marks, classes, rotation=45)\n",
    "    plt.yticks(tick_marks, classes)\n",
    "\n",
    "    fmt = '.2f' if normalize else 'd'\n",
    "    thresh = cm.max() / 2.\n",
    "    for i, j in itertools.product(range(cm.shape[0]), range(cm.shape[1])):\n",
    "        plt.text(j, i, format(cm[i, j], fmt),\n",
    "                 horizontalalignment=\"center\",\n",
    "                 color=\"white\" if cm[i, j] > thresh else \"black\")\n",
    "\n",
    "    plt.ylabel('True label')\n",
    "    plt.xlabel('Predicted label')\n",
    "    plt.tight_layout()\n",
    "\n",
    "    \n",
    "class_names = [\"Non-fraud\", \"Fraud\"]\n",
    "\n",
    "# Compute confusion matrix\n",
    "cnf_matrix = confusion_matrix(y_test, y_pred)\n",
    "np.set_printoptions(precision=2)\n",
    "\n",
    "# Plot non-normalized confusion matrix\n",
    "plt.figure()\n",
    "plot_confusion_matrix(cnf_matrix, classes=class_names,\n",
    "                      title='Confusion matrix, without normalization')\n",
    "\n",
    "# Plot normalized confusion matrix\n",
    "plt.figure()\n",
    "plot_confusion_matrix(cnf_matrix, classes=class_names, normalize=True,\n",
    "                      title='Normalized confusion matrix')\n",
    "\n",
    "plt.show()"
   ]
  },
  {
   "cell_type": "markdown",
   "metadata": {
    "colab_type": "text",
    "id": "h4Txf7tX3au3"
   },
   "source": [
    "# Ploting the ROC CURVE\n",
    "Considering a binary classification"
   ]
  },
  {
   "cell_type": "code",
   "execution_count": 0,
   "metadata": {
    "colab": {
     "base_uri": "https://localhost:8080/",
     "height": 329
    },
    "colab_type": "code",
    "id": "VnAwYyv-3ZU9",
    "outputId": "9722ca26-71ef-4446-ccd5-6493abe016f7"
   },
   "outputs": [
    {
     "name": "stdout",
     "output_type": "stream",
     "text": [
      "Automatically created module for IPython interactive environment\n"
     ]
    },
    {
     "name": "stderr",
     "output_type": "stream",
     "text": [
      "Using TensorFlow backend.\n"
     ]
    },
    {
     "data": {
      "image/png": "[encoded data removed]",
      "text/plain": [
       "<Figure size 432x288 with 1 Axes>"
      ]
     },
     "metadata": {
      "tags": []
     },
     "output_type": "display_data"
    }
   ],
   "source": [
    "print(__doc__)\n",
    "\n",
    "import numpy as np\n",
    "import matplotlib.pyplot as plt\n",
    "from itertools import cycle\n",
    "\n",
    "from sklearn import svm, datasets\n",
    "from sklearn.metrics import roc_curve, auc\n",
    "from sklearn.model_selection import train_test_split\n",
    "from sklearn.preprocessing import label_binarize\n",
    "from sklearn.multiclass import OneVsRestClassifier\n",
    "from scipy import interp\n",
    "from keras.utils import to_categorical\n",
    "\n",
    "fpr, tpr, _ = roc_curve(y_test, y_score[:,1])\n",
    "roc_auc = auc(fpr, tpr)\n",
    "\n",
    "# Plot all ROC curves\n",
    "class_name = ['Down', 'Up', 'Neither']\n",
    "colors = cycle(['aqua', 'darkorange', 'cornflowerblue'])\n",
    "\n",
    "color = 'darkorange'\n",
    "plt.plot(fpr, tpr, color=color, lw=2,\n",
    "         label='ROC curve of class {0} (area = {1:0.2f})'\n",
    "         ''.format(\"Fraud detection\", roc_auc))\n",
    "\n",
    "plt.plot([0, 1], [0, 1], 'k--', lw=2)\n",
    "plt.xlim([0.0, 1.0])\n",
    "plt.ylim([0.0, 1.05])\n",
    "plt.xlabel('False Positive Rate')\n",
    "plt.ylabel('True Positive Rate')\n",
    "plt.title('Some extension of Receiver operating characteristic to multi-class')\n",
    "plt.legend(loc=\"lower right\")\n",
    "plt.show()"
   ]
  }
 ],
 "metadata": {
  "accelerator": "GPU",
  "colab": {
   "collapsed_sections": [],
   "machine_shape": "hm",
   "name": "xgboost.ipynb",
   "provenance": [],
   "version": "0.3.2"
  },
  "kernelspec": {
   "display_name": "dl env",
   "language": "python",
   "name": "dl-env"
  },
  "language_info": {
   "codemirror_mode": {
    "name": "ipython",
    "version": 3
   },
   "file_extension": ".py",
   "mimetype": "text/x-python",
   "name": "python",
   "nbconvert_exporter": "python",
   "pygments_lexer": "ipython3",
   "version": "3.6.8"
  }
 },
 "nbformat": 4,
 "nbformat_minor": 1
}
