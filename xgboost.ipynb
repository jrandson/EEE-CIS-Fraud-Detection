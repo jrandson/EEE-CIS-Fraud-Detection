{
<<<<<<< HEAD
  "nbformat": 4,
  "nbformat_minor": 0,
  "metadata": {
    "colab": {
      "name": "xgboost.ipynb",
      "version": "0.3.2",
      "provenance": [],
      "collapsed_sections": [],
      "machine_shape": "hm"
    },
    "kernelspec": {
      "name": "python3",
      "display_name": "Python 3"
    },
    "accelerator": "GPU"
  },
  "cells": [
    {
      "cell_type": "markdown",
      "metadata": {
        "id": "CakQO-vT0mO4",
        "colab_type": "text"
      },
      "source": [
        "#### If you are not using google colab ignore the cell bellow"
      ]
    },
    {
      "cell_type": "code",
      "metadata": {
        "id": "pxrttUrg-HHS",
        "colab_type": "code",
        "outputId": "e64276d6-0d5f-417d-94e3-6b01501b309c",
        "colab": {
          "base_uri": "https://localhost:8080/",
          "height": 122
        }
      },
      "source": [
        "# Load the Drive helper and mount\n",
        "from google.colab import drive\n",
        "\n",
        "# This will prompt for authorization.\n",
        "drive.mount('/content/drive')"
      ],
      "execution_count": 0,
      "outputs": [
        {
          "output_type": "stream",
          "text": [
            "Go to this URL in a browser: https://accounts.google.com/o/oauth2/auth?client_id=947318989803-6bn6qk8qdgf4n4g3pfee6491hc0brc4i.apps.googleusercontent.com&redirect_uri=urn%3Aietf%3Awg%3Aoauth%3A2.0%3Aoob&scope=email%20https%3A%2F%2Fwww.googleapis.com%2Fauth%2Fdocs.test%20https%3A%2F%2Fwww.googleapis.com%2Fauth%2Fdrive%20https%3A%2F%2Fwww.googleapis.com%2Fauth%2Fdrive.photos.readonly%20https%3A%2F%2Fwww.googleapis.com%2Fauth%2Fpeopleapi.readonly&response_type=code\n",
            "\n",
            "Enter your authorization code:\n",
            "··········\n",
            "Mounted at /content/drive\n"
          ],
          "name": "stdout"
        }
      ]
    },
    {
      "cell_type": "code",
      "metadata": {
        "id": "RYttLeIP-J1G",
        "colab_type": "code",
        "outputId": "2c934e8a-1be2-4443-cd64-05590326bd08",
        "colab": {
          "base_uri": "https://localhost:8080/",
          "height": 34
        }
      },
      "source": [
        "!ls 'drive/My Drive/Colab Notebooks/IEEE-CIS/ieee-fraud-detection'\n",
        "\n",
        "base_path = 'drive/My Drive/Colab Notebooks/IEEE-CIS/ieee-fraud-detection'"
      ],
      "execution_count": 0,
      "outputs": [
        {
          "output_type": "stream",
          "text": [
            "final_data.csv\ttrain_identity.csv  train_transaction.csv\n"
          ],
          "name": "stdout"
        }
      ]
    },
    {
      "cell_type": "code",
      "metadata": {
        "id": "o8oLVfek-NFM",
        "colab_type": "code",
        "colab": {}
      },
      "source": [
        "import pandas as pd\n",
        "import numpy as np\n",
        "import xgboost as xgb\n",
        "from sklearn.model_selection import train_test_split"
      ],
      "execution_count": 0,
      "outputs": []
    },
    {
      "cell_type": "code",
      "metadata": {
        "id": "-opvxT4x-dMk",
        "colab_type": "code",
        "outputId": "daed149f-3279-4ef4-ac6f-e5bf4c14ceb9",
        "colab": {
          "base_uri": "https://localhost:8080/",
          "height": 321
        }
      },
      "source": [
        "df = pd.read_csv(base_path + \"/final_data.csv\").drop(\"TransactionID\", axis=1)\n",
        "\n",
        "print(df.shape)\n",
        "df.head()"
      ],
      "execution_count": 0,
      "outputs": [
        {
          "output_type": "stream",
          "text": [
            "(590540, 502)\n"
          ],
          "name": "stdout"
        },
        {
          "output_type": "execute_result",
          "data": {
            "text/html": [
              "<div>\n",
              "<style scoped>\n",
              "    .dataframe tbody tr th:only-of-type {\n",
              "        vertical-align: middle;\n",
              "    }\n",
              "\n",
              "    .dataframe tbody tr th {\n",
              "        vertical-align: top;\n",
              "    }\n",
              "\n",
              "    .dataframe thead th {\n",
              "        text-align: right;\n",
              "    }\n",
              "</style>\n",
              "<table border=\"1\" class=\"dataframe\">\n",
              "  <thead>\n",
              "    <tr style=\"text-align: right;\">\n",
              "      <th></th>\n",
              "      <th>isFraud</th>\n",
              "      <th>TransactionDT</th>\n",
              "      <th>TransactionAmt</th>\n",
              "      <th>C1</th>\n",
              "      <th>C2</th>\n",
              "      <th>C3</th>\n",
              "      <th>C4</th>\n",
              "      <th>C5</th>\n",
              "      <th>C6</th>\n",
              "      <th>C7</th>\n",
              "      <th>C8</th>\n",
              "      <th>C9</th>\n",
              "      <th>C10</th>\n",
              "      <th>C11</th>\n",
              "      <th>C12</th>\n",
              "      <th>C13</th>\n",
              "      <th>C14</th>\n",
              "      <th>D1</th>\n",
              "      <th>D2</th>\n",
              "      <th>D3</th>\n",
              "      <th>D4</th>\n",
              "      <th>D5</th>\n",
              "      <th>D6</th>\n",
              "      <th>D8</th>\n",
              "      <th>D9</th>\n",
              "      <th>D10</th>\n",
              "      <th>D11</th>\n",
              "      <th>D12</th>\n",
              "      <th>D13</th>\n",
              "      <th>D14</th>\n",
              "      <th>D15</th>\n",
              "      <th>V1</th>\n",
              "      <th>V2</th>\n",
              "      <th>V3</th>\n",
              "      <th>V4</th>\n",
              "      <th>V5</th>\n",
              "      <th>V6</th>\n",
              "      <th>V7</th>\n",
              "      <th>V8</th>\n",
              "      <th>V9</th>\n",
              "      <th>...</th>\n",
              "      <th>id_28-None</th>\n",
              "      <th>id_29-Found</th>\n",
              "      <th>id_29-None</th>\n",
              "      <th>id_29-NotFound</th>\n",
              "      <th>id_30-Android</th>\n",
              "      <th>id_30-Linux</th>\n",
              "      <th>id_30-Mac-OS</th>\n",
              "      <th>id_30-None</th>\n",
              "      <th>id_30-Windows</th>\n",
              "      <th>id_30-iOS</th>\n",
              "      <th>id_30-other</th>\n",
              "      <th>id_31-None</th>\n",
              "      <th>id_31-chrome</th>\n",
              "      <th>id_31-chrome-for-android</th>\n",
              "      <th>id_31-chrome-for-ios</th>\n",
              "      <th>id_31-edge</th>\n",
              "      <th>id_31-firefox</th>\n",
              "      <th>id_31-ie-for-desktop</th>\n",
              "      <th>id_31-ie-for-tablet</th>\n",
              "      <th>id_31-opera</th>\n",
              "      <th>id_31-other</th>\n",
              "      <th>id_31-safari</th>\n",
              "      <th>id_31-samsung</th>\n",
              "      <th>id_34-None</th>\n",
              "      <th>id_34-match_status:-1</th>\n",
              "      <th>id_34-match_status:0</th>\n",
              "      <th>id_34-match_status:1</th>\n",
              "      <th>id_34-match_status:2</th>\n",
              "      <th>id_35-F</th>\n",
              "      <th>id_35-None</th>\n",
              "      <th>id_35-T</th>\n",
              "      <th>id_36-F</th>\n",
              "      <th>id_36-None</th>\n",
              "      <th>id_36-T</th>\n",
              "      <th>id_37-F</th>\n",
              "      <th>id_37-None</th>\n",
              "      <th>id_37-T</th>\n",
              "      <th>id_38-F</th>\n",
              "      <th>id_38-None</th>\n",
              "      <th>id_38-T</th>\n",
              "    </tr>\n",
              "  </thead>\n",
              "  <tbody>\n",
              "    <tr>\n",
              "      <th>0</th>\n",
              "      <td>0</td>\n",
              "      <td>86400</td>\n",
              "      <td>68.5</td>\n",
              "      <td>1.0</td>\n",
              "      <td>1.0</td>\n",
              "      <td>0.0</td>\n",
              "      <td>0.0</td>\n",
              "      <td>0.0</td>\n",
              "      <td>1.0</td>\n",
              "      <td>0.0</td>\n",
              "      <td>0.0</td>\n",
              "      <td>1.0</td>\n",
              "      <td>0.0</td>\n",
              "      <td>2.0</td>\n",
              "      <td>0.0</td>\n",
              "      <td>1.0</td>\n",
              "      <td>1.0</td>\n",
              "      <td>14.0</td>\n",
              "      <td>169.563231</td>\n",
              "      <td>13.000000</td>\n",
              "      <td>140.002441</td>\n",
              "      <td>42.335965</td>\n",
              "      <td>69.805717</td>\n",
              "      <td>146.058108</td>\n",
              "      <td>0.561057</td>\n",
              "      <td>13.000000</td>\n",
              "      <td>13.000000</td>\n",
              "      <td>54.037533</td>\n",
              "      <td>17.901295</td>\n",
              "      <td>57.724444</td>\n",
              "      <td>0.000000</td>\n",
              "      <td>1.000000</td>\n",
              "      <td>1.000000</td>\n",
              "      <td>1.000000</td>\n",
              "      <td>1.000000</td>\n",
              "      <td>1.000000</td>\n",
              "      <td>1.000000</td>\n",
              "      <td>1.00000</td>\n",
              "      <td>1.000000</td>\n",
              "      <td>1.000000</td>\n",
              "      <td>...</td>\n",
              "      <td>0.022568</td>\n",
              "      <td>0.519479</td>\n",
              "      <td>0.022568</td>\n",
              "      <td>0.457953</td>\n",
              "      <td>0.0437</td>\n",
              "      <td>0.007876</td>\n",
              "      <td>0.092052</td>\n",
              "      <td>0.462224</td>\n",
              "      <td>0.25472</td>\n",
              "      <td>0.137153</td>\n",
              "      <td>0.002274</td>\n",
              "      <td>0.027393</td>\n",
              "      <td>0.378783</td>\n",
              "      <td>0.14462</td>\n",
              "      <td>0.003931</td>\n",
              "      <td>0.043977</td>\n",
              "      <td>0.043943</td>\n",
              "      <td>0.062607</td>\n",
              "      <td>0.004486</td>\n",
              "      <td>0.003113</td>\n",
              "      <td>0.019704</td>\n",
              "      <td>0.253382</td>\n",
              "      <td>0.014061</td>\n",
              "      <td>0.46056</td>\n",
              "      <td>0.000021</td>\n",
              "      <td>0.002877</td>\n",
              "      <td>0.120472</td>\n",
              "      <td>0.41607</td>\n",
              "      <td>0.437979</td>\n",
              "      <td>0.022519</td>\n",
              "      <td>0.539502</td>\n",
              "      <td>0.92951</td>\n",
              "      <td>0.022519</td>\n",
              "      <td>0.047971</td>\n",
              "      <td>0.211692</td>\n",
              "      <td>0.022519</td>\n",
              "      <td>0.765789</td>\n",
              "      <td>0.512518</td>\n",
              "      <td>0.022519</td>\n",
              "      <td>0.464963</td>\n",
              "    </tr>\n",
              "    <tr>\n",
              "      <th>1</th>\n",
              "      <td>0</td>\n",
              "      <td>86401</td>\n",
              "      <td>29.0</td>\n",
              "      <td>1.0</td>\n",
              "      <td>1.0</td>\n",
              "      <td>0.0</td>\n",
              "      <td>0.0</td>\n",
              "      <td>0.0</td>\n",
              "      <td>1.0</td>\n",
              "      <td>0.0</td>\n",
              "      <td>0.0</td>\n",
              "      <td>0.0</td>\n",
              "      <td>0.0</td>\n",
              "      <td>1.0</td>\n",
              "      <td>0.0</td>\n",
              "      <td>1.0</td>\n",
              "      <td>1.0</td>\n",
              "      <td>0.0</td>\n",
              "      <td>169.563231</td>\n",
              "      <td>28.343348</td>\n",
              "      <td>0.000000</td>\n",
              "      <td>42.335965</td>\n",
              "      <td>69.805717</td>\n",
              "      <td>146.058108</td>\n",
              "      <td>0.561057</td>\n",
              "      <td>0.000000</td>\n",
              "      <td>146.621465</td>\n",
              "      <td>54.037533</td>\n",
              "      <td>17.901295</td>\n",
              "      <td>57.724444</td>\n",
              "      <td>0.000000</td>\n",
              "      <td>0.999945</td>\n",
              "      <td>1.045204</td>\n",
              "      <td>1.078075</td>\n",
              "      <td>0.846456</td>\n",
              "      <td>0.876991</td>\n",
              "      <td>1.045686</td>\n",
              "      <td>1.07287</td>\n",
              "      <td>1.027704</td>\n",
              "      <td>1.041529</td>\n",
              "      <td>...</td>\n",
              "      <td>0.022568</td>\n",
              "      <td>0.519479</td>\n",
              "      <td>0.022568</td>\n",
              "      <td>0.457953</td>\n",
              "      <td>0.0437</td>\n",
              "      <td>0.007876</td>\n",
              "      <td>0.092052</td>\n",
              "      <td>0.462224</td>\n",
              "      <td>0.25472</td>\n",
              "      <td>0.137153</td>\n",
              "      <td>0.002274</td>\n",
              "      <td>0.027393</td>\n",
              "      <td>0.378783</td>\n",
              "      <td>0.14462</td>\n",
              "      <td>0.003931</td>\n",
              "      <td>0.043977</td>\n",
              "      <td>0.043943</td>\n",
              "      <td>0.062607</td>\n",
              "      <td>0.004486</td>\n",
              "      <td>0.003113</td>\n",
              "      <td>0.019704</td>\n",
              "      <td>0.253382</td>\n",
              "      <td>0.014061</td>\n",
              "      <td>0.46056</td>\n",
              "      <td>0.000021</td>\n",
              "      <td>0.002877</td>\n",
              "      <td>0.120472</td>\n",
              "      <td>0.41607</td>\n",
              "      <td>0.437979</td>\n",
              "      <td>0.022519</td>\n",
              "      <td>0.539502</td>\n",
              "      <td>0.92951</td>\n",
              "      <td>0.022519</td>\n",
              "      <td>0.047971</td>\n",
              "      <td>0.211692</td>\n",
              "      <td>0.022519</td>\n",
              "      <td>0.765789</td>\n",
              "      <td>0.512518</td>\n",
              "      <td>0.022519</td>\n",
              "      <td>0.464963</td>\n",
              "    </tr>\n",
              "    <tr>\n",
              "      <th>2</th>\n",
              "      <td>0</td>\n",
              "      <td>86469</td>\n",
              "      <td>59.0</td>\n",
              "      <td>1.0</td>\n",
              "      <td>1.0</td>\n",
              "      <td>0.0</td>\n",
              "      <td>0.0</td>\n",
              "      <td>0.0</td>\n",
              "      <td>1.0</td>\n",
              "      <td>0.0</td>\n",
              "      <td>0.0</td>\n",
              "      <td>1.0</td>\n",
              "      <td>0.0</td>\n",
              "      <td>1.0</td>\n",
              "      <td>0.0</td>\n",
              "      <td>1.0</td>\n",
              "      <td>1.0</td>\n",
              "      <td>0.0</td>\n",
              "      <td>169.563231</td>\n",
              "      <td>28.343348</td>\n",
              "      <td>0.000000</td>\n",
              "      <td>42.335965</td>\n",
              "      <td>69.805717</td>\n",
              "      <td>146.058108</td>\n",
              "      <td>0.561057</td>\n",
              "      <td>0.000000</td>\n",
              "      <td>315.000000</td>\n",
              "      <td>54.037533</td>\n",
              "      <td>17.901295</td>\n",
              "      <td>57.724444</td>\n",
              "      <td>315.000000</td>\n",
              "      <td>1.000000</td>\n",
              "      <td>1.000000</td>\n",
              "      <td>1.000000</td>\n",
              "      <td>1.000000</td>\n",
              "      <td>1.000000</td>\n",
              "      <td>1.000000</td>\n",
              "      <td>1.00000</td>\n",
              "      <td>1.000000</td>\n",
              "      <td>1.000000</td>\n",
              "      <td>...</td>\n",
              "      <td>0.022568</td>\n",
              "      <td>0.519479</td>\n",
              "      <td>0.022568</td>\n",
              "      <td>0.457953</td>\n",
              "      <td>0.0437</td>\n",
              "      <td>0.007876</td>\n",
              "      <td>0.092052</td>\n",
              "      <td>0.462224</td>\n",
              "      <td>0.25472</td>\n",
              "      <td>0.137153</td>\n",
              "      <td>0.002274</td>\n",
              "      <td>0.027393</td>\n",
              "      <td>0.378783</td>\n",
              "      <td>0.14462</td>\n",
              "      <td>0.003931</td>\n",
              "      <td>0.043977</td>\n",
              "      <td>0.043943</td>\n",
              "      <td>0.062607</td>\n",
              "      <td>0.004486</td>\n",
              "      <td>0.003113</td>\n",
              "      <td>0.019704</td>\n",
              "      <td>0.253382</td>\n",
              "      <td>0.014061</td>\n",
              "      <td>0.46056</td>\n",
              "      <td>0.000021</td>\n",
              "      <td>0.002877</td>\n",
              "      <td>0.120472</td>\n",
              "      <td>0.41607</td>\n",
              "      <td>0.437979</td>\n",
              "      <td>0.022519</td>\n",
              "      <td>0.539502</td>\n",
              "      <td>0.92951</td>\n",
              "      <td>0.022519</td>\n",
              "      <td>0.047971</td>\n",
              "      <td>0.211692</td>\n",
              "      <td>0.022519</td>\n",
              "      <td>0.765789</td>\n",
              "      <td>0.512518</td>\n",
              "      <td>0.022519</td>\n",
              "      <td>0.464963</td>\n",
              "    </tr>\n",
              "    <tr>\n",
              "      <th>3</th>\n",
              "      <td>0</td>\n",
              "      <td>86499</td>\n",
              "      <td>50.0</td>\n",
              "      <td>2.0</td>\n",
              "      <td>5.0</td>\n",
              "      <td>0.0</td>\n",
              "      <td>0.0</td>\n",
              "      <td>0.0</td>\n",
              "      <td>4.0</td>\n",
              "      <td>0.0</td>\n",
              "      <td>0.0</td>\n",
              "      <td>1.0</td>\n",
              "      <td>0.0</td>\n",
              "      <td>1.0</td>\n",
              "      <td>0.0</td>\n",
              "      <td>25.0</td>\n",
              "      <td>1.0</td>\n",
              "      <td>112.0</td>\n",
              "      <td>112.000000</td>\n",
              "      <td>0.000000</td>\n",
              "      <td>94.000000</td>\n",
              "      <td>0.000000</td>\n",
              "      <td>69.805717</td>\n",
              "      <td>146.058108</td>\n",
              "      <td>0.561057</td>\n",
              "      <td>84.000000</td>\n",
              "      <td>146.621465</td>\n",
              "      <td>54.037533</td>\n",
              "      <td>17.901295</td>\n",
              "      <td>57.724444</td>\n",
              "      <td>111.000000</td>\n",
              "      <td>0.999945</td>\n",
              "      <td>1.045204</td>\n",
              "      <td>1.078075</td>\n",
              "      <td>0.846456</td>\n",
              "      <td>0.876991</td>\n",
              "      <td>1.045686</td>\n",
              "      <td>1.07287</td>\n",
              "      <td>1.027704</td>\n",
              "      <td>1.041529</td>\n",
              "      <td>...</td>\n",
              "      <td>0.022568</td>\n",
              "      <td>0.519479</td>\n",
              "      <td>0.022568</td>\n",
              "      <td>0.457953</td>\n",
              "      <td>0.0437</td>\n",
              "      <td>0.007876</td>\n",
              "      <td>0.092052</td>\n",
              "      <td>0.462224</td>\n",
              "      <td>0.25472</td>\n",
              "      <td>0.137153</td>\n",
              "      <td>0.002274</td>\n",
              "      <td>0.027393</td>\n",
              "      <td>0.378783</td>\n",
              "      <td>0.14462</td>\n",
              "      <td>0.003931</td>\n",
              "      <td>0.043977</td>\n",
              "      <td>0.043943</td>\n",
              "      <td>0.062607</td>\n",
              "      <td>0.004486</td>\n",
              "      <td>0.003113</td>\n",
              "      <td>0.019704</td>\n",
              "      <td>0.253382</td>\n",
              "      <td>0.014061</td>\n",
              "      <td>0.46056</td>\n",
              "      <td>0.000021</td>\n",
              "      <td>0.002877</td>\n",
              "      <td>0.120472</td>\n",
              "      <td>0.41607</td>\n",
              "      <td>0.437979</td>\n",
              "      <td>0.022519</td>\n",
              "      <td>0.539502</td>\n",
              "      <td>0.92951</td>\n",
              "      <td>0.022519</td>\n",
              "      <td>0.047971</td>\n",
              "      <td>0.211692</td>\n",
              "      <td>0.022519</td>\n",
              "      <td>0.765789</td>\n",
              "      <td>0.512518</td>\n",
              "      <td>0.022519</td>\n",
              "      <td>0.464963</td>\n",
              "    </tr>\n",
              "    <tr>\n",
              "      <th>4</th>\n",
              "      <td>0</td>\n",
              "      <td>86506</td>\n",
              "      <td>50.0</td>\n",
              "      <td>1.0</td>\n",
              "      <td>1.0</td>\n",
              "      <td>0.0</td>\n",
              "      <td>0.0</td>\n",
              "      <td>0.0</td>\n",
              "      <td>1.0</td>\n",
              "      <td>0.0</td>\n",
              "      <td>1.0</td>\n",
              "      <td>0.0</td>\n",
              "      <td>1.0</td>\n",
              "      <td>1.0</td>\n",
              "      <td>0.0</td>\n",
              "      <td>1.0</td>\n",
              "      <td>1.0</td>\n",
              "      <td>0.0</td>\n",
              "      <td>169.563231</td>\n",
              "      <td>28.343348</td>\n",
              "      <td>140.002441</td>\n",
              "      <td>42.335965</td>\n",
              "      <td>69.805717</td>\n",
              "      <td>146.058108</td>\n",
              "      <td>0.561057</td>\n",
              "      <td>123.982137</td>\n",
              "      <td>146.621465</td>\n",
              "      <td>54.037533</td>\n",
              "      <td>17.901295</td>\n",
              "      <td>57.724444</td>\n",
              "      <td>163.744579</td>\n",
              "      <td>0.999945</td>\n",
              "      <td>1.045204</td>\n",
              "      <td>1.078075</td>\n",
              "      <td>0.846456</td>\n",
              "      <td>0.876991</td>\n",
              "      <td>1.045686</td>\n",
              "      <td>1.07287</td>\n",
              "      <td>1.027704</td>\n",
              "      <td>1.041529</td>\n",
              "      <td>...</td>\n",
              "      <td>0.000000</td>\n",
              "      <td>0.000000</td>\n",
              "      <td>0.000000</td>\n",
              "      <td>1.000000</td>\n",
              "      <td>1.0000</td>\n",
              "      <td>0.000000</td>\n",
              "      <td>0.000000</td>\n",
              "      <td>0.000000</td>\n",
              "      <td>0.00000</td>\n",
              "      <td>0.000000</td>\n",
              "      <td>0.000000</td>\n",
              "      <td>0.000000</td>\n",
              "      <td>0.000000</td>\n",
              "      <td>0.00000</td>\n",
              "      <td>0.000000</td>\n",
              "      <td>0.000000</td>\n",
              "      <td>0.000000</td>\n",
              "      <td>0.000000</td>\n",
              "      <td>0.000000</td>\n",
              "      <td>0.000000</td>\n",
              "      <td>0.000000</td>\n",
              "      <td>0.000000</td>\n",
              "      <td>1.000000</td>\n",
              "      <td>0.00000</td>\n",
              "      <td>0.000000</td>\n",
              "      <td>0.000000</td>\n",
              "      <td>0.000000</td>\n",
              "      <td>1.00000</td>\n",
              "      <td>0.000000</td>\n",
              "      <td>0.000000</td>\n",
              "      <td>1.000000</td>\n",
              "      <td>1.00000</td>\n",
              "      <td>0.000000</td>\n",
              "      <td>0.000000</td>\n",
              "      <td>0.000000</td>\n",
              "      <td>0.000000</td>\n",
              "      <td>1.000000</td>\n",
              "      <td>0.000000</td>\n",
              "      <td>0.000000</td>\n",
              "      <td>1.000000</td>\n",
              "    </tr>\n",
              "  </tbody>\n",
              "</table>\n",
              "<p>5 rows × 502 columns</p>\n",
              "</div>"
            ],
            "text/plain": [
              "   isFraud  TransactionDT  TransactionAmt  ...   id_38-F  id_38-None   id_38-T\n",
              "0        0          86400            68.5  ...  0.512518    0.022519  0.464963\n",
              "1        0          86401            29.0  ...  0.512518    0.022519  0.464963\n",
              "2        0          86469            59.0  ...  0.512518    0.022519  0.464963\n",
              "3        0          86499            50.0  ...  0.512518    0.022519  0.464963\n",
              "4        0          86506            50.0  ...  0.000000    0.000000  1.000000\n",
              "\n",
              "[5 rows x 502 columns]"
            ]
          },
          "metadata": {
            "tags": []
          },
          "execution_count": 4
        }
      ]
    },
    {
      "cell_type": "markdown",
      "metadata": {
        "id": "8VDm9xOEHlvn",
        "colab_type": "text"
      },
      "source": [
        "##  Up sampling"
      ]
    },
    {
      "cell_type": "code",
      "metadata": {
        "id": "eqG3p-f-HklW",
        "colab_type": "code",
        "outputId": "6d2bccc4-8d34-422e-fb04-7dd49b7bcd44",
        "colab": {
          "base_uri": "https://localhost:8080/",
          "height": 153
        }
      },
      "source": [
        "df_fraud = df[df.isFraud == 1]\n",
        "n_fraud = df_fraud.shape[0]\n",
        "df_non_fraud = df[df.isFraud == 0].sample(frac=0.5)\n",
        "n_non_fraud = df_non_fraud.shape[0]\n",
        "\n",
        "print(n_fraud)\n",
        "print(df.shape[0])\n",
        "print(int(n_non_fraud / n_fraud))\n",
        "\n",
        "replicated_fraud = pd.concat([df_fraud for _ in range(int(n_non_fraud / n_fraud)+1)])\n",
        "print(replicated_fraud.shape)\n",
        "\n",
        "del df_fraud\n",
        "\n",
        "df_augumentated = pd.concat([replicated_fraud, df_non_fraud]).sample(frac=1.)\n",
        "\n",
        "del replicated_fraud\n",
        "del df_non_fraud\n",
        "\n",
        "y = df_augumentated.isFraud.values\n",
        "X = df_augumentated.drop(\"isFraud\", axis=1).values\n",
        "\n",
        "X_train, X_test, y_train, y_test = train_test_split(X, y, test_size=0.3)\n",
        "\n",
        "del df_augumentated\n",
        "del df\n",
        "\n",
        "print(X_train.shape)\n",
        "print(X_test.shape)\n",
        "print(y_train.shape)\n",
        "print(y_test.shape)"
      ],
      "execution_count": 0,
      "outputs": [
        {
          "output_type": "stream",
          "text": [
            "20663\n",
            "590540\n",
            "13\n",
            "(289282, 502)\n",
            "(401954, 501)\n",
            "(172266, 501)\n",
            "(401954,)\n",
            "(172266,)\n"
          ],
          "name": "stdout"
        }
      ]
    },
    {
      "cell_type": "markdown",
      "metadata": {
        "id": "1daITbWjHf3X",
        "colab_type": "text"
      },
      "source": [
        "## under sampling"
      ]
    },
    {
      "cell_type": "code",
      "metadata": {
        "id": "cnFXDJyOkHZU",
        "colab_type": "code",
        "colab": {}
      },
      "source": [
        " \n",
        "\n",
        "# n_fraud = df[df.isFraud == 1].shape[0]\n",
        "# df_fraud = df[df.isFraud == 1]\n",
        "# df_non_fraud = df[df.isFraud == 0].sample(n=n_fraud)\n",
        "# df_sample = pd.concat([df_fraud, df_non_fraud]).sample(frac=1.0)\n",
        "\n",
        "# y = df_sample.isFraud.values\n",
        "# X = df_sample.drop(\"isFraud\", axis=1).values\n",
        "\n",
        "# X_train, X_test, y_train,  y_test = train_test_split(X, y, test_size=0.3)\n",
        "\n",
        "# del df_sample\n",
        "\n",
        "# print(X_train.shape)\n",
        "# print(X_test.shape)\n",
        "# print(y_train.shape)\n",
        "# print(y_test.shape)"
      ],
      "execution_count": 0,
      "outputs": []
    },
    {
      "cell_type": "code",
      "metadata": {
        "id": "6ZvzdHWZCMtw",
        "colab_type": "code",
        "outputId": "58474755-b3d2-40dc-ac92-a6248fc548bd",
        "colab": {
          "base_uri": "https://localhost:8080/",
          "height": 102
        }
      },
      "source": [
        "#verifying the whether the datset is balanced\n",
        "print(y_train[y_train == 1].shape[0]/y_train.shape[0])\n",
        "print(y_train[y_train == 0].shape[0]/y_train.shape[0])\n",
        "print()\n",
        "print(y_test[y_test == 1].shape[0]/y_test.shape[0])\n",
        "print(y_test[y_test == 0].shape[0]/y_test.shape[0])"
      ],
      "execution_count": 0,
      "outputs": [
        {
          "output_type": "stream",
          "text": [
            "0.5033784960468113\n",
            "0.49662150395318866\n",
            "\n",
            "0.5047252504847155\n",
            "0.4952747495152845\n"
          ],
          "name": "stdout"
        }
      ]
    },
    {
      "cell_type": "code",
      "metadata": {
        "id": "-_U2ZomrNd3k",
        "colab_type": "code",
        "outputId": "fa2de7f9-5daa-4509-8067-7ab08aaeda8f",
        "colab": {
          "base_uri": "https://localhost:8080/",
          "height": 136
        }
      },
      "source": [
        "gbm = xgb.XGBClassifier(base_score=0.5, booster='gbtree', \n",
        "               gamma=0, learning_rate=0.01, max_delta_step=0, max_depth=12,\n",
        "              min_child_weight=1, missing=None, n_estimators=300, n_jobs=1,\n",
        "              nthread=None, objective='binary:logistic', random_state=0,\n",
        "              reg_alpha=0, reg_lambda=0.01, scale_pos_weight=1, seed=None,\n",
        "              subsample=1,  verbosity=1)\n",
        "\n",
        "gbm\n"
      ],
      "execution_count": 0,
      "outputs": [
        {
          "output_type": "execute_result",
          "data": {
            "text/plain": [
              "XGBClassifier(base_score=0.5, booster='gbtree', colsample_bylevel=1,\n",
              "              colsample_bynode=1, colsample_bytree=1, gamma=0,\n",
              "              learning_rate=0.01, max_delta_step=0, max_depth=12,\n",
              "              min_child_weight=1, missing=None, n_estimators=300, n_jobs=1,\n",
              "              nthread=None, objective='binary:logistic', random_state=0,\n",
              "              reg_alpha=0, reg_lambda=0.01, scale_pos_weight=1, seed=None,\n",
              "              silent=None, subsample=1, verbosity=1)"
            ]
          },
          "metadata": {
            "tags": []
          },
          "execution_count": 8
        }
      ]
    },
    {
      "cell_type": "code",
      "metadata": {
        "id": "VZM0Vl48OpXe",
        "colab_type": "code",
        "outputId": "0ab7639d-7bfa-4c12-e8be-0a1087382ce5",
        "colab": {
          "base_uri": "https://localhost:8080/",
          "height": 34
        }
      },
      "source": [
        "import time\n",
        "\n",
        "t = time.time()\n",
        "gbm.fit(X_train, y_train)\n",
        "\n",
        "print(\"{} seconds elapsed\".format(time.time() - t))"
      ],
      "execution_count": 0,
      "outputs": [
        {
          "output_type": "stream",
          "text": [
            "6063.394356966019 seconds elapsed\n"
          ],
          "name": "stdout"
        }
      ]
    },
    {
      "cell_type": "code",
      "metadata": {
        "id": "lwfEzB_uBfOn",
        "colab_type": "code",
        "outputId": "35c54cc1-be54-439d-a044-a7d500242737",
        "colab": {
          "base_uri": "https://localhost:8080/",
          "height": 34
        }
      },
      "source": [
        "6063/60"
      ],
      "execution_count": 0,
      "outputs": [
        {
          "output_type": "execute_result",
          "data": {
            "text/plain": [
              "101.05"
            ]
          },
          "metadata": {
            "tags": []
          },
          "execution_count": 17
        }
      ]
    },
    {
      "cell_type": "code",
      "metadata": {
        "id": "7jWX4IA7OCJX",
        "colab_type": "code",
        "colab": {}
      },
      "source": [
        "y_pred = gbm.predict(X_test)\n",
        "y_score = gbm.predict_proba(X_test)"
      ],
      "execution_count": 0,
      "outputs": []
    },
    {
      "cell_type": "code",
      "metadata": {
        "id": "WzP2ZsN04yqd",
        "colab_type": "code",
        "outputId": "ca116488-9804-47da-dd10-2ae17b10a45f",
        "colab": {
          "base_uri": "https://localhost:8080/",
          "height": 34
        }
      },
      "source": [
        "y_pred"
      ],
      "execution_count": 0,
      "outputs": [
        {
          "output_type": "execute_result",
          "data": {
            "text/plain": [
              "array([0, 1, 1, ..., 0, 1, 0])"
            ]
          },
          "metadata": {
            "tags": []
          },
          "execution_count": 11
        }
      ]
    },
    {
      "cell_type": "code",
      "metadata": {
        "id": "LSvNJsTAgSMW",
        "colab_type": "code",
        "outputId": "5719b9e4-15ad-44db-b93f-5be62ac84c96",
        "colab": {
          "base_uri": "https://localhost:8080/",
          "height": 170
        }
      },
      "source": [
        "from sklearn.metrics import classification_report\n",
        "\n",
        "target_names = ['Non-Fraud', 'Fraud']\n",
        "\n",
        "print(classification_report(y_test, y_pred, target_names=target_names))"
      ],
      "execution_count": 0,
      "outputs": [
        {
          "output_type": "stream",
          "text": [
            "              precision    recall  f1-score   support\n",
            "\n",
            "   Non-Fraud       0.89      0.93      0.91     85319\n",
            "       Fraud       0.93      0.88      0.91     86947\n",
            "\n",
            "    accuracy                           0.91    172266\n",
            "   macro avg       0.91      0.91      0.91    172266\n",
            "weighted avg       0.91      0.91      0.91    172266\n",
            "\n"
          ],
          "name": "stdout"
        }
      ]
    },
    {
      "cell_type": "code",
      "metadata": {
        "id": "41wI0DZmf6-b",
        "colab_type": "code",
        "outputId": "1e2d686c-ba20-425f-d0c2-7a4e55f0f740",
        "colab": {
          "base_uri": "https://localhost:8080/",
          "height": 34
        }
      },
      "source": [
        "# kappa score\n",
        "from sklearn.metrics import cohen_kappa_score\n",
        "kappa = cohen_kappa_score(y_test, y_pred)\n",
        "print(\"ohen kappa: {}\".format(kappa))"
      ],
      "execution_count": 0,
      "outputs": [
        {
          "output_type": "stream",
          "text": [
            "ohen kappa: 0.8135472983661869\n"
          ],
          "name": "stdout"
        }
      ]
    },
    {
      "cell_type": "markdown",
      "metadata": {
        "id": "xirAWU363hw-",
        "colab_type": "text"
      },
      "source": [
        "# Computing the confusion Matrix"
      ]
    },
    {
      "cell_type": "code",
      "metadata": {
        "id": "3f4vZXOa2yyo",
        "colab_type": "code",
        "outputId": "fb8075cf-2e5f-43db-8ac9-76890de30796",
        "colab": {
          "base_uri": "https://localhost:8080/",
          "height": 628
        }
      },
      "source": [
        "print(__doc__)\n",
        "\n",
        "import itertools\n",
        "import numpy as np\n",
        "import matplotlib.pyplot as plt\n",
        "\n",
        "from sklearn import svm, datasets\n",
        "from sklearn.model_selection import train_test_split\n",
        "from sklearn.metrics import confusion_matrix\n",
        "\n",
        "\n",
        "def plot_confusion_matrix(cm, classes,\n",
        "                          normalize=False,\n",
        "                          title='Confusion matrix',\n",
        "                          cmap=plt.cm.Blues):\n",
        "    \"\"\"\n",
        "    This function prints and plots the confusion matrix.\n",
        "    Normalization can be applied by setting `normalize=True`.\n",
        "    \"\"\"\n",
        "    if normalize:\n",
        "        cm = cm.astype('float') / cm.sum(axis=1)[:, np.newaxis]\n",
        "        print(\"Normalized confusion matrix\")\n",
        "    else:\n",
        "        print('Confusion matrix, without normalization')\n",
        "\n",
        "\n",
        "    plt.imshow(cm, interpolation='nearest', cmap=cmap)\n",
        "    plt.title(title)\n",
        "    plt.colorbar()\n",
        "    tick_marks = np.arange(len(classes))\n",
        "    plt.xticks(tick_marks, classes, rotation=45)\n",
        "    plt.yticks(tick_marks, classes)\n",
        "\n",
        "    fmt = '.2f' if normalize else 'd'\n",
        "    thresh = cm.max() / 2.\n",
        "    for i, j in itertools.product(range(cm.shape[0]), range(cm.shape[1])):\n",
        "        plt.text(j, i, format(cm[i, j], fmt),\n",
        "                 horizontalalignment=\"center\",\n",
        "                 color=\"white\" if cm[i, j] > thresh else \"black\")\n",
        "\n",
        "    plt.ylabel('True label')\n",
        "    plt.xlabel('Predicted label')\n",
        "    plt.tight_layout()\n",
        "\n",
        "    \n",
        "class_names = [\"Non-fraud\", \"Fraud\"]\n",
        "\n",
        "# Compute confusion matrix\n",
        "cnf_matrix = confusion_matrix(y_test, y_pred)\n",
        "np.set_printoptions(precision=2)\n",
        "\n",
        "# Plot non-normalized confusion matrix\n",
        "plt.figure()\n",
        "plot_confusion_matrix(cnf_matrix, classes=class_names,\n",
        "                      title='Confusion matrix, without normalization')\n",
        "\n",
        "# Plot normalized confusion matrix\n",
        "plt.figure()\n",
        "plot_confusion_matrix(cnf_matrix, classes=class_names, normalize=True,\n",
        "                      title='Normalized confusion matrix')\n",
        "\n",
        "plt.show()"
      ],
      "execution_count": 0,
      "outputs": [
        {
          "output_type": "stream",
          "text": [
            "Automatically created module for IPython interactive environment\n",
            "Confusion matrix, without normalization\n",
            "Normalized confusion matrix\n"
          ],
          "name": "stdout"
        },
        {
          "output_type": "display_data",
          "data": {
            "image/png": "iVBORw0KGgoAAAANSUhEUgAAAVMAAAEYCAYAAADh1BXbAAAABHNCSVQICAgIfAhkiAAAAAlwSFlz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\nrkJggg==\n",
            "text/plain": [
              "<Figure size 432x288 with 2 Axes>"
            ]
          },
          "metadata": {
            "tags": []
          }
        },
        {
          "output_type": "display_data",
          "data": {
            "image/png": "iVBORw0KGgoAAAANSUhEUgAAAUQAAAEYCAYAAAAkpo9KAAAABHNCSVQICAgIfAhkiAAAAAlwSFlz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\n",
            "text/plain": [
              "<Figure size 432x288 with 2 Axes>"
            ]
          },
          "metadata": {
            "tags": []
          }
        }
      ]
    },
    {
      "cell_type": "markdown",
      "metadata": {
        "id": "h4Txf7tX3au3",
        "colab_type": "text"
      },
      "source": [
        "# Ploting the ROC CURVE\n",
        "Considering a binary classification"
      ]
    },
    {
      "cell_type": "code",
      "metadata": {
        "id": "VnAwYyv-3ZU9",
        "colab_type": "code",
        "outputId": "9722ca26-71ef-4446-ccd5-6493abe016f7",
        "colab": {
          "base_uri": "https://localhost:8080/",
          "height": 329
        }
      },
      "source": [
        "print(__doc__)\n",
        "\n",
        "import numpy as np\n",
        "import matplotlib.pyplot as plt\n",
        "from itertools import cycle\n",
        "\n",
        "from sklearn import svm, datasets\n",
        "from sklearn.metrics import roc_curve, auc\n",
        "from sklearn.model_selection import train_test_split\n",
        "from sklearn.preprocessing import label_binarize\n",
        "from sklearn.multiclass import OneVsRestClassifier\n",
        "from scipy import interp\n",
        "from keras.utils import to_categorical\n",
        "\n",
        "fpr, tpr, _ = roc_curve(y_test, y_score[:,1])\n",
        "roc_auc = auc(fpr, tpr)\n",
        "\n",
        "# Plot all ROC curves\n",
        "class_name = ['Down', 'Up', 'Neither']\n",
        "colors = cycle(['aqua', 'darkorange', 'cornflowerblue'])\n",
        "\n",
        "color = 'darkorange'\n",
        "plt.plot(fpr, tpr, color=color, lw=2,\n",
        "         label='ROC curve of class {0} (area = {1:0.2f})'\n",
        "         ''.format(\"Fraud detection\", roc_auc))\n",
        "\n",
        "plt.plot([0, 1], [0, 1], 'k--', lw=2)\n",
        "plt.xlim([0.0, 1.0])\n",
        "plt.ylim([0.0, 1.05])\n",
        "plt.xlabel('False Positive Rate')\n",
        "plt.ylabel('True Positive Rate')\n",
        "plt.title('Some extension of Receiver operating characteristic to multi-class')\n",
        "plt.legend(loc=\"lower right\")\n",
        "plt.show()"
      ],
      "execution_count": 0,
      "outputs": [
        {
          "output_type": "stream",
          "text": [
            "Automatically created module for IPython interactive environment\n"
          ],
          "name": "stdout"
        },
        {
          "output_type": "stream",
          "text": [
            "Using TensorFlow backend.\n"
          ],
          "name": "stderr"
        },
        {
          "output_type": "display_data",
          "data": {
            "image/png": "iVBORw0KGgoAAAANSUhEUgAAAaMAAAEWCAYAAADLkvgyAAAABHNCSVQICAgIfAhkiAAAAAlwSFlz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\nYuSccy5y/w/Q/tGRXuzO2gAAAABJRU5ErkJggg==\n",
            "text/plain": [
              "<Figure size 432x288 with 1 Axes>"
            ]
          },
          "metadata": {
            "tags": []
          }
        }
      ]
    },
    {
      "cell_type": "markdown",
      "metadata": {
        "id": "ANAQNDmA08sZ",
        "colab_type": "text"
      },
      "source": [
        "## Trying Cross validation (Not used considered)"
      ]
    },
    {
      "cell_type": "code",
      "metadata": {
        "id": "Hnld0NcUjvGN",
        "colab_type": "code",
        "colab": {}
      },
      "source": [
        "from sklearn.model_selection import cross_val_score\n",
        "\n",
        "gbm = xgb.XGBClassifier(base_score=0.5, booster='gbtree', \n",
        "               gamma=0, learning_rate=0.01, max_delta_step=0, max_depth=12,\n",
        "              min_child_weight=1, missing=None, n_estimators=300, n_jobs=1,\n",
        "              nthread=None, objective='binary:logistic', random_state=0,\n",
        "              reg_alpha=0, reg_lambda=0.01, scale_pos_weight=1, seed=None,\n",
        "              subsample=1,  verbosity=1)\n"
      ],
      "execution_count": 0,
      "outputs": []
    },
    {
      "cell_type": "code",
      "metadata": {
        "id": "7qVUqHX71sZt",
        "colab_type": "code",
        "colab": {}
      },
      "source": [
        "from sklearn import datasets\n",
        "from sklearn.model_selection import cross_validate\n",
        "from sklearn.metrics.scorer import make_scorer\n",
        "from sklearn.metrics import confusion_matrix\n",
        "\n",
        "cv_results = cross_validate(gbm, X_train, y_train, cv=5, \n",
        "                            scoring=('roc_auc','recall', 'precision', 'f1', 'accuracy'),\n",
        "                            return_train_score=False)\n",
        "\n",
        "score_result = sorted(cv_results.keys())"
      ],
      "execution_count": 0,
      "outputs": []
    },
    {
      "cell_type": "code",
      "metadata": {
        "id": "OEjifDdJ7TLI",
        "colab_type": "code",
        "colab": {}
      },
      "source": [
        "for key in cv_results:\n",
        "  print(\"{}\\t\\tMean:{:.2f} -\\t{}\".format(key, cv_results[key].mean(), cv_results[key]))"
      ],
      "execution_count": 0,
      "outputs": []
    },
    {
      "cell_type": "code",
      "metadata": {
        "id": "cS8PlxN9Kuap",
        "colab_type": "code",
        "colab": {}
      },
      "source": [
        ""
      ],
      "execution_count": 0,
      "outputs": []
    }
  ]
}
=======
 "cells": [
  {
   "cell_type": "markdown",
   "metadata": {
    "colab_type": "text",
    "id": "CakQO-vT0mO4"
   },
   "source": [
    "#### If you are not using google colab ignore the cell bellow"
   ]
  },
  {
   "cell_type": "code",
   "execution_count": 1,
   "metadata": {
    "colab": {
     "base_uri": "https://localhost:8080/",
     "height": 122
    },
    "colab_type": "code",
    "id": "pxrttUrg-HHS",
    "outputId": "74ac8574-a90b-4b6d-b063-ce2a2432a4d2"
   },
   "outputs": [
    {
     "name": "stdout",
     "output_type": "stream",
     "text": [
      "Go to this URL in a browser: https://accounts.google.com/o/oauth2/auth?client_id=947318989803-6bn6qk8qdgf4n4g3pfee6491hc0brc4i.apps.googleusercontent.com&redirect_uri=urn%3Aietf%3Awg%3Aoauth%3A2.0%3Aoob&scope=email%20https%3A%2F%2Fwww.googleapis.com%2Fauth%2Fdocs.test%20https%3A%2F%2Fwww.googleapis.com%2Fauth%2Fdrive%20https%3A%2F%2Fwww.googleapis.com%2Fauth%2Fdrive.photos.readonly%20https%3A%2F%2Fwww.googleapis.com%2Fauth%2Fpeopleapi.readonly&response_type=code\n",
      "\n",
      "Enter your authorization code:\n",
      "··········\n",
      "Mounted at /content/drive\n"
     ]
    }
   ],
   "source": [
    "# Load the Drive helper and mount\n",
    "from google.colab import drive\n",
    "\n",
    "# This will prompt for authorization.\n",
    "drive.mount('/content/drive')"
   ]
  },
  {
   "cell_type": "code",
   "execution_count": 2,
   "metadata": {
    "colab": {
     "base_uri": "https://localhost:8080/",
     "height": 34
    },
    "colab_type": "code",
    "id": "RYttLeIP-J1G",
    "outputId": "cbc95a43-bf44-4bb6-df71-716418a9c4a6"
   },
   "outputs": [
    {
     "name": "stdout",
     "output_type": "stream",
     "text": [
      "final_data2.csv  final_data.csv  train_identity.csv  train_transaction.csv\n"
     ]
    }
   ],
   "source": [
    "!ls 'drive/My Drive/Colab Notebooks/IEEE-CIS/ieee-fraud-detection'\n",
    "\n",
    "base_path = 'drive/My Drive/Colab Notebooks/IEEE-CIS/ieee-fraud-detection'"
   ]
  },
  {
   "cell_type": "code",
   "execution_count": 0,
   "metadata": {
    "colab": {},
    "colab_type": "code",
    "id": "o8oLVfek-NFM"
   },
   "outputs": [],
   "source": [
    "import pandas as pd\n",
    "import numpy as np\n",
    "import xgboost as xgb\n",
    "from sklearn.model_selection import train_test_split"
   ]
  },
  {
   "cell_type": "code",
   "execution_count": 4,
   "metadata": {
    "colab": {
     "base_uri": "https://localhost:8080/",
     "height": 321
    },
    "colab_type": "code",
    "id": "-opvxT4x-dMk",
    "outputId": "a2dfff0e-7a54-406b-eee6-77ef4dae9fe9"
   },
   "outputs": [
    {
     "name": "stdout",
     "output_type": "stream",
     "text": [
      "(590540, 502)\n"
     ]
    },
    {
     "data": {
      "text/html": [
       "<div>\n",
       "<style scoped>\n",
       "    .dataframe tbody tr th:only-of-type {\n",
       "        vertical-align: middle;\n",
       "    }\n",
       "\n",
       "    .dataframe tbody tr th {\n",
       "        vertical-align: top;\n",
       "    }\n",
       "\n",
       "    .dataframe thead th {\n",
       "        text-align: right;\n",
       "    }\n",
       "</style>\n",
       "<table border=\"1\" class=\"dataframe\">\n",
       "  <thead>\n",
       "    <tr style=\"text-align: right;\">\n",
       "      <th></th>\n",
       "      <th>isFraud</th>\n",
       "      <th>TransactionDT</th>\n",
       "      <th>TransactionAmt</th>\n",
       "      <th>C1</th>\n",
       "      <th>C2</th>\n",
       "      <th>C3</th>\n",
       "      <th>C4</th>\n",
       "      <th>C5</th>\n",
       "      <th>C6</th>\n",
       "      <th>C7</th>\n",
       "      <th>C8</th>\n",
       "      <th>C9</th>\n",
       "      <th>C10</th>\n",
       "      <th>C11</th>\n",
       "      <th>C12</th>\n",
       "      <th>C13</th>\n",
       "      <th>C14</th>\n",
       "      <th>D1</th>\n",
       "      <th>D2</th>\n",
       "      <th>D3</th>\n",
       "      <th>D4</th>\n",
       "      <th>D5</th>\n",
       "      <th>D6</th>\n",
       "      <th>D8</th>\n",
       "      <th>D9</th>\n",
       "      <th>D10</th>\n",
       "      <th>D11</th>\n",
       "      <th>D12</th>\n",
       "      <th>D13</th>\n",
       "      <th>D14</th>\n",
       "      <th>D15</th>\n",
       "      <th>V1</th>\n",
       "      <th>V2</th>\n",
       "      <th>V3</th>\n",
       "      <th>V4</th>\n",
       "      <th>V5</th>\n",
       "      <th>V6</th>\n",
       "      <th>V7</th>\n",
       "      <th>V8</th>\n",
       "      <th>V9</th>\n",
       "      <th>...</th>\n",
       "      <th>id_28-None</th>\n",
       "      <th>id_29-Found</th>\n",
       "      <th>id_29-None</th>\n",
       "      <th>id_29-NotFound</th>\n",
       "      <th>id_30-Android</th>\n",
       "      <th>id_30-Linux</th>\n",
       "      <th>id_30-Mac-OS</th>\n",
       "      <th>id_30-None</th>\n",
       "      <th>id_30-Windows</th>\n",
       "      <th>id_30-iOS</th>\n",
       "      <th>id_30-other</th>\n",
       "      <th>id_31-None</th>\n",
       "      <th>id_31-chrome</th>\n",
       "      <th>id_31-chrome-for-android</th>\n",
       "      <th>id_31-chrome-for-ios</th>\n",
       "      <th>id_31-edge</th>\n",
       "      <th>id_31-firefox</th>\n",
       "      <th>id_31-ie-for-desktop</th>\n",
       "      <th>id_31-ie-for-tablet</th>\n",
       "      <th>id_31-opera</th>\n",
       "      <th>id_31-other</th>\n",
       "      <th>id_31-safari</th>\n",
       "      <th>id_31-samsung</th>\n",
       "      <th>id_34-None</th>\n",
       "      <th>id_34-match_status:-1</th>\n",
       "      <th>id_34-match_status:0</th>\n",
       "      <th>id_34-match_status:1</th>\n",
       "      <th>id_34-match_status:2</th>\n",
       "      <th>id_35-F</th>\n",
       "      <th>id_35-None</th>\n",
       "      <th>id_35-T</th>\n",
       "      <th>id_36-F</th>\n",
       "      <th>id_36-None</th>\n",
       "      <th>id_36-T</th>\n",
       "      <th>id_37-F</th>\n",
       "      <th>id_37-None</th>\n",
       "      <th>id_37-T</th>\n",
       "      <th>id_38-F</th>\n",
       "      <th>id_38-None</th>\n",
       "      <th>id_38-T</th>\n",
       "    </tr>\n",
       "  </thead>\n",
       "  <tbody>\n",
       "    <tr>\n",
       "      <th>0</th>\n",
       "      <td>0</td>\n",
       "      <td>86400</td>\n",
       "      <td>68.5</td>\n",
       "      <td>1.0</td>\n",
       "      <td>1.0</td>\n",
       "      <td>0.0</td>\n",
       "      <td>0.0</td>\n",
       "      <td>0.0</td>\n",
       "      <td>1.0</td>\n",
       "      <td>0.0</td>\n",
       "      <td>0.0</td>\n",
       "      <td>1.0</td>\n",
       "      <td>0.0</td>\n",
       "      <td>2.0</td>\n",
       "      <td>0.0</td>\n",
       "      <td>1.0</td>\n",
       "      <td>1.0</td>\n",
       "      <td>14.0</td>\n",
       "      <td>169.563231</td>\n",
       "      <td>13.000000</td>\n",
       "      <td>140.002441</td>\n",
       "      <td>42.335965</td>\n",
       "      <td>69.805717</td>\n",
       "      <td>146.058108</td>\n",
       "      <td>0.561057</td>\n",
       "      <td>13.000000</td>\n",
       "      <td>13.000000</td>\n",
       "      <td>54.037533</td>\n",
       "      <td>17.901295</td>\n",
       "      <td>57.724444</td>\n",
       "      <td>0.000000</td>\n",
       "      <td>1.000000</td>\n",
       "      <td>1.000000</td>\n",
       "      <td>1.000000</td>\n",
       "      <td>1.000000</td>\n",
       "      <td>1.000000</td>\n",
       "      <td>1.000000</td>\n",
       "      <td>1.00000</td>\n",
       "      <td>1.000000</td>\n",
       "      <td>1.000000</td>\n",
       "      <td>...</td>\n",
       "      <td>0.022568</td>\n",
       "      <td>0.519479</td>\n",
       "      <td>0.022568</td>\n",
       "      <td>0.457953</td>\n",
       "      <td>0.0437</td>\n",
       "      <td>0.007876</td>\n",
       "      <td>0.092052</td>\n",
       "      <td>0.462224</td>\n",
       "      <td>0.25472</td>\n",
       "      <td>0.137153</td>\n",
       "      <td>0.002274</td>\n",
       "      <td>0.027393</td>\n",
       "      <td>0.378783</td>\n",
       "      <td>0.14462</td>\n",
       "      <td>0.003931</td>\n",
       "      <td>0.043977</td>\n",
       "      <td>0.043943</td>\n",
       "      <td>0.062607</td>\n",
       "      <td>0.004486</td>\n",
       "      <td>0.003113</td>\n",
       "      <td>0.019704</td>\n",
       "      <td>0.253382</td>\n",
       "      <td>0.014061</td>\n",
       "      <td>0.46056</td>\n",
       "      <td>0.000021</td>\n",
       "      <td>0.002877</td>\n",
       "      <td>0.120472</td>\n",
       "      <td>0.41607</td>\n",
       "      <td>0.437979</td>\n",
       "      <td>0.022519</td>\n",
       "      <td>0.539502</td>\n",
       "      <td>0.92951</td>\n",
       "      <td>0.022519</td>\n",
       "      <td>0.047971</td>\n",
       "      <td>0.211692</td>\n",
       "      <td>0.022519</td>\n",
       "      <td>0.765789</td>\n",
       "      <td>0.512518</td>\n",
       "      <td>0.022519</td>\n",
       "      <td>0.464963</td>\n",
       "    </tr>\n",
       "    <tr>\n",
       "      <th>1</th>\n",
       "      <td>0</td>\n",
       "      <td>86401</td>\n",
       "      <td>29.0</td>\n",
       "      <td>1.0</td>\n",
       "      <td>1.0</td>\n",
       "      <td>0.0</td>\n",
       "      <td>0.0</td>\n",
       "      <td>0.0</td>\n",
       "      <td>1.0</td>\n",
       "      <td>0.0</td>\n",
       "      <td>0.0</td>\n",
       "      <td>0.0</td>\n",
       "      <td>0.0</td>\n",
       "      <td>1.0</td>\n",
       "      <td>0.0</td>\n",
       "      <td>1.0</td>\n",
       "      <td>1.0</td>\n",
       "      <td>0.0</td>\n",
       "      <td>169.563231</td>\n",
       "      <td>28.343348</td>\n",
       "      <td>0.000000</td>\n",
       "      <td>42.335965</td>\n",
       "      <td>69.805717</td>\n",
       "      <td>146.058108</td>\n",
       "      <td>0.561057</td>\n",
       "      <td>0.000000</td>\n",
       "      <td>146.621465</td>\n",
       "      <td>54.037533</td>\n",
       "      <td>17.901295</td>\n",
       "      <td>57.724444</td>\n",
       "      <td>0.000000</td>\n",
       "      <td>0.999945</td>\n",
       "      <td>1.045204</td>\n",
       "      <td>1.078075</td>\n",
       "      <td>0.846456</td>\n",
       "      <td>0.876991</td>\n",
       "      <td>1.045686</td>\n",
       "      <td>1.07287</td>\n",
       "      <td>1.027704</td>\n",
       "      <td>1.041529</td>\n",
       "      <td>...</td>\n",
       "      <td>0.022568</td>\n",
       "      <td>0.519479</td>\n",
       "      <td>0.022568</td>\n",
       "      <td>0.457953</td>\n",
       "      <td>0.0437</td>\n",
       "      <td>0.007876</td>\n",
       "      <td>0.092052</td>\n",
       "      <td>0.462224</td>\n",
       "      <td>0.25472</td>\n",
       "      <td>0.137153</td>\n",
       "      <td>0.002274</td>\n",
       "      <td>0.027393</td>\n",
       "      <td>0.378783</td>\n",
       "      <td>0.14462</td>\n",
       "      <td>0.003931</td>\n",
       "      <td>0.043977</td>\n",
       "      <td>0.043943</td>\n",
       "      <td>0.062607</td>\n",
       "      <td>0.004486</td>\n",
       "      <td>0.003113</td>\n",
       "      <td>0.019704</td>\n",
       "      <td>0.253382</td>\n",
       "      <td>0.014061</td>\n",
       "      <td>0.46056</td>\n",
       "      <td>0.000021</td>\n",
       "      <td>0.002877</td>\n",
       "      <td>0.120472</td>\n",
       "      <td>0.41607</td>\n",
       "      <td>0.437979</td>\n",
       "      <td>0.022519</td>\n",
       "      <td>0.539502</td>\n",
       "      <td>0.92951</td>\n",
       "      <td>0.022519</td>\n",
       "      <td>0.047971</td>\n",
       "      <td>0.211692</td>\n",
       "      <td>0.022519</td>\n",
       "      <td>0.765789</td>\n",
       "      <td>0.512518</td>\n",
       "      <td>0.022519</td>\n",
       "      <td>0.464963</td>\n",
       "    </tr>\n",
       "    <tr>\n",
       "      <th>2</th>\n",
       "      <td>0</td>\n",
       "      <td>86469</td>\n",
       "      <td>59.0</td>\n",
       "      <td>1.0</td>\n",
       "      <td>1.0</td>\n",
       "      <td>0.0</td>\n",
       "      <td>0.0</td>\n",
       "      <td>0.0</td>\n",
       "      <td>1.0</td>\n",
       "      <td>0.0</td>\n",
       "      <td>0.0</td>\n",
       "      <td>1.0</td>\n",
       "      <td>0.0</td>\n",
       "      <td>1.0</td>\n",
       "      <td>0.0</td>\n",
       "      <td>1.0</td>\n",
       "      <td>1.0</td>\n",
       "      <td>0.0</td>\n",
       "      <td>169.563231</td>\n",
       "      <td>28.343348</td>\n",
       "      <td>0.000000</td>\n",
       "      <td>42.335965</td>\n",
       "      <td>69.805717</td>\n",
       "      <td>146.058108</td>\n",
       "      <td>0.561057</td>\n",
       "      <td>0.000000</td>\n",
       "      <td>315.000000</td>\n",
       "      <td>54.037533</td>\n",
       "      <td>17.901295</td>\n",
       "      <td>57.724444</td>\n",
       "      <td>315.000000</td>\n",
       "      <td>1.000000</td>\n",
       "      <td>1.000000</td>\n",
       "      <td>1.000000</td>\n",
       "      <td>1.000000</td>\n",
       "      <td>1.000000</td>\n",
       "      <td>1.000000</td>\n",
       "      <td>1.00000</td>\n",
       "      <td>1.000000</td>\n",
       "      <td>1.000000</td>\n",
       "      <td>...</td>\n",
       "      <td>0.022568</td>\n",
       "      <td>0.519479</td>\n",
       "      <td>0.022568</td>\n",
       "      <td>0.457953</td>\n",
       "      <td>0.0437</td>\n",
       "      <td>0.007876</td>\n",
       "      <td>0.092052</td>\n",
       "      <td>0.462224</td>\n",
       "      <td>0.25472</td>\n",
       "      <td>0.137153</td>\n",
       "      <td>0.002274</td>\n",
       "      <td>0.027393</td>\n",
       "      <td>0.378783</td>\n",
       "      <td>0.14462</td>\n",
       "      <td>0.003931</td>\n",
       "      <td>0.043977</td>\n",
       "      <td>0.043943</td>\n",
       "      <td>0.062607</td>\n",
       "      <td>0.004486</td>\n",
       "      <td>0.003113</td>\n",
       "      <td>0.019704</td>\n",
       "      <td>0.253382</td>\n",
       "      <td>0.014061</td>\n",
       "      <td>0.46056</td>\n",
       "      <td>0.000021</td>\n",
       "      <td>0.002877</td>\n",
       "      <td>0.120472</td>\n",
       "      <td>0.41607</td>\n",
       "      <td>0.437979</td>\n",
       "      <td>0.022519</td>\n",
       "      <td>0.539502</td>\n",
       "      <td>0.92951</td>\n",
       "      <td>0.022519</td>\n",
       "      <td>0.047971</td>\n",
       "      <td>0.211692</td>\n",
       "      <td>0.022519</td>\n",
       "      <td>0.765789</td>\n",
       "      <td>0.512518</td>\n",
       "      <td>0.022519</td>\n",
       "      <td>0.464963</td>\n",
       "    </tr>\n",
       "    <tr>\n",
       "      <th>3</th>\n",
       "      <td>0</td>\n",
       "      <td>86499</td>\n",
       "      <td>50.0</td>\n",
       "      <td>2.0</td>\n",
       "      <td>5.0</td>\n",
       "      <td>0.0</td>\n",
       "      <td>0.0</td>\n",
       "      <td>0.0</td>\n",
       "      <td>4.0</td>\n",
       "      <td>0.0</td>\n",
       "      <td>0.0</td>\n",
       "      <td>1.0</td>\n",
       "      <td>0.0</td>\n",
       "      <td>1.0</td>\n",
       "      <td>0.0</td>\n",
       "      <td>25.0</td>\n",
       "      <td>1.0</td>\n",
       "      <td>112.0</td>\n",
       "      <td>112.000000</td>\n",
       "      <td>0.000000</td>\n",
       "      <td>94.000000</td>\n",
       "      <td>0.000000</td>\n",
       "      <td>69.805717</td>\n",
       "      <td>146.058108</td>\n",
       "      <td>0.561057</td>\n",
       "      <td>84.000000</td>\n",
       "      <td>146.621465</td>\n",
       "      <td>54.037533</td>\n",
       "      <td>17.901295</td>\n",
       "      <td>57.724444</td>\n",
       "      <td>111.000000</td>\n",
       "      <td>0.999945</td>\n",
       "      <td>1.045204</td>\n",
       "      <td>1.078075</td>\n",
       "      <td>0.846456</td>\n",
       "      <td>0.876991</td>\n",
       "      <td>1.045686</td>\n",
       "      <td>1.07287</td>\n",
       "      <td>1.027704</td>\n",
       "      <td>1.041529</td>\n",
       "      <td>...</td>\n",
       "      <td>0.022568</td>\n",
       "      <td>0.519479</td>\n",
       "      <td>0.022568</td>\n",
       "      <td>0.457953</td>\n",
       "      <td>0.0437</td>\n",
       "      <td>0.007876</td>\n",
       "      <td>0.092052</td>\n",
       "      <td>0.462224</td>\n",
       "      <td>0.25472</td>\n",
       "      <td>0.137153</td>\n",
       "      <td>0.002274</td>\n",
       "      <td>0.027393</td>\n",
       "      <td>0.378783</td>\n",
       "      <td>0.14462</td>\n",
       "      <td>0.003931</td>\n",
       "      <td>0.043977</td>\n",
       "      <td>0.043943</td>\n",
       "      <td>0.062607</td>\n",
       "      <td>0.004486</td>\n",
       "      <td>0.003113</td>\n",
       "      <td>0.019704</td>\n",
       "      <td>0.253382</td>\n",
       "      <td>0.014061</td>\n",
       "      <td>0.46056</td>\n",
       "      <td>0.000021</td>\n",
       "      <td>0.002877</td>\n",
       "      <td>0.120472</td>\n",
       "      <td>0.41607</td>\n",
       "      <td>0.437979</td>\n",
       "      <td>0.022519</td>\n",
       "      <td>0.539502</td>\n",
       "      <td>0.92951</td>\n",
       "      <td>0.022519</td>\n",
       "      <td>0.047971</td>\n",
       "      <td>0.211692</td>\n",
       "      <td>0.022519</td>\n",
       "      <td>0.765789</td>\n",
       "      <td>0.512518</td>\n",
       "      <td>0.022519</td>\n",
       "      <td>0.464963</td>\n",
       "    </tr>\n",
       "    <tr>\n",
       "      <th>4</th>\n",
       "      <td>0</td>\n",
       "      <td>86506</td>\n",
       "      <td>50.0</td>\n",
       "      <td>1.0</td>\n",
       "      <td>1.0</td>\n",
       "      <td>0.0</td>\n",
       "      <td>0.0</td>\n",
       "      <td>0.0</td>\n",
       "      <td>1.0</td>\n",
       "      <td>0.0</td>\n",
       "      <td>1.0</td>\n",
       "      <td>0.0</td>\n",
       "      <td>1.0</td>\n",
       "      <td>1.0</td>\n",
       "      <td>0.0</td>\n",
       "      <td>1.0</td>\n",
       "      <td>1.0</td>\n",
       "      <td>0.0</td>\n",
       "      <td>169.563231</td>\n",
       "      <td>28.343348</td>\n",
       "      <td>140.002441</td>\n",
       "      <td>42.335965</td>\n",
       "      <td>69.805717</td>\n",
       "      <td>146.058108</td>\n",
       "      <td>0.561057</td>\n",
       "      <td>123.982137</td>\n",
       "      <td>146.621465</td>\n",
       "      <td>54.037533</td>\n",
       "      <td>17.901295</td>\n",
       "      <td>57.724444</td>\n",
       "      <td>163.744579</td>\n",
       "      <td>0.999945</td>\n",
       "      <td>1.045204</td>\n",
       "      <td>1.078075</td>\n",
       "      <td>0.846456</td>\n",
       "      <td>0.876991</td>\n",
       "      <td>1.045686</td>\n",
       "      <td>1.07287</td>\n",
       "      <td>1.027704</td>\n",
       "      <td>1.041529</td>\n",
       "      <td>...</td>\n",
       "      <td>0.000000</td>\n",
       "      <td>0.000000</td>\n",
       "      <td>0.000000</td>\n",
       "      <td>1.000000</td>\n",
       "      <td>1.0000</td>\n",
       "      <td>0.000000</td>\n",
       "      <td>0.000000</td>\n",
       "      <td>0.000000</td>\n",
       "      <td>0.00000</td>\n",
       "      <td>0.000000</td>\n",
       "      <td>0.000000</td>\n",
       "      <td>0.000000</td>\n",
       "      <td>0.000000</td>\n",
       "      <td>0.00000</td>\n",
       "      <td>0.000000</td>\n",
       "      <td>0.000000</td>\n",
       "      <td>0.000000</td>\n",
       "      <td>0.000000</td>\n",
       "      <td>0.000000</td>\n",
       "      <td>0.000000</td>\n",
       "      <td>0.000000</td>\n",
       "      <td>0.000000</td>\n",
       "      <td>1.000000</td>\n",
       "      <td>0.00000</td>\n",
       "      <td>0.000000</td>\n",
       "      <td>0.000000</td>\n",
       "      <td>0.000000</td>\n",
       "      <td>1.00000</td>\n",
       "      <td>0.000000</td>\n",
       "      <td>0.000000</td>\n",
       "      <td>1.000000</td>\n",
       "      <td>1.00000</td>\n",
       "      <td>0.000000</td>\n",
       "      <td>0.000000</td>\n",
       "      <td>0.000000</td>\n",
       "      <td>0.000000</td>\n",
       "      <td>1.000000</td>\n",
       "      <td>0.000000</td>\n",
       "      <td>0.000000</td>\n",
       "      <td>1.000000</td>\n",
       "    </tr>\n",
       "  </tbody>\n",
       "</table>\n",
       "<p>5 rows × 502 columns</p>\n",
       "</div>"
      ],
      "text/plain": [
       "   isFraud  TransactionDT  TransactionAmt  ...   id_38-F  id_38-None   id_38-T\n",
       "0        0          86400            68.5  ...  0.512518    0.022519  0.464963\n",
       "1        0          86401            29.0  ...  0.512518    0.022519  0.464963\n",
       "2        0          86469            59.0  ...  0.512518    0.022519  0.464963\n",
       "3        0          86499            50.0  ...  0.512518    0.022519  0.464963\n",
       "4        0          86506            50.0  ...  0.000000    0.000000  1.000000\n",
       "\n",
       "[5 rows x 502 columns]"
      ]
     },
     "execution_count": 4,
     "metadata": {
      "tags": []
     },
     "output_type": "execute_result"
    }
   ],
   "source": [
    "df = pd.read_csv(base_path + \"/final_data.csv\").drop(\"TransactionID\", axis=1)\n",
    "\n",
    "print(df.shape)\n",
    "df.head()"
   ]
  },
  {
   "cell_type": "code",
   "execution_count": 5,
   "metadata": {
    "colab": {
     "base_uri": "https://localhost:8080/",
     "height": 85
    },
    "colab_type": "code",
    "id": "cnFXDJyOkHZU",
    "outputId": "2a364334-83bd-46cd-bea8-350f6bf24bdb"
   },
   "outputs": [
    {
     "name": "stdout",
     "output_type": "stream",
     "text": [
      "(28928, 501)\n",
      "(12398, 501)\n",
      "(28928,)\n",
      "(12398,)\n"
     ]
    }
   ],
   "source": [
    "#under sampling the dataset dueto the very unbalanced target\n",
    "\n",
    "n_fraud = df[df.isFraud == 1].shape[0]\n",
    "df_fraud = df[df.isFraud == 1]\n",
    "df_non_fraud = df[df.isFraud == 0].sample(n=n_fraud)\n",
    "df_sample = pd.concat([df_fraud, df_non_fraud]).sample(frac=1.0)\n",
    "\n",
    "y = df_sample.isFraud.values\n",
    "X = df_sample.drop(\"isFraud\", axis=1).values\n",
    "\n",
    "X_train, X_test, y_train,  y_test = train_test_split(X, y, test_size=0.3)\n",
    "\n",
    "del df_sample\n",
    "\n",
    "print(X_train.shape)\n",
    "print(X_test.shape)\n",
    "print(y_train.shape)\n",
    "print(y_test.shape)"
   ]
  },
  {
   "cell_type": "code",
   "execution_count": 6,
   "metadata": {
    "colab": {
     "base_uri": "https://localhost:8080/",
     "height": 102
    },
    "colab_type": "code",
    "id": "6ZvzdHWZCMtw",
    "outputId": "41504e1e-05cc-4b3c-f966-99072286f564"
   },
   "outputs": [
    {
     "name": "stdout",
     "output_type": "stream",
     "text": [
      "0.5019358407079646\n",
      "0.4980641592920354\n",
      "\n",
      "0.4954831424423294\n",
      "0.5045168575576706\n"
     ]
    }
   ],
   "source": [
    "#verifying the whether the datset is balanced\n",
    "print(y_train[y_train == 1].shape[0]/y_train.shape[0])\n",
    "print(y_train[y_train == 0].shape[0]/y_train.shape[0])\n",
    "print()\n",
    "print(y_test[y_test == 1].shape[0]/y_test.shape[0])\n",
    "print(y_test[y_test == 0].shape[0]/y_test.shape[0])"
   ]
  },
  {
   "cell_type": "code",
   "execution_count": 9,
   "metadata": {
    "colab": {
     "base_uri": "https://localhost:8080/",
     "height": 136
    },
    "colab_type": "code",
    "id": "-_U2ZomrNd3k",
    "outputId": "cf13d716-4693-4428-f08c-32a037a39c03"
   },
   "outputs": [
    {
     "data": {
      "text/plain": [
       "XGBClassifier(base_score=0.5, booster='gbtree', colsample_bylevel=1,\n",
       "              colsample_bynode=1, colsample_bytree=1, gamma=0,\n",
       "              learning_rate=0.01, max_delta_step=0, max_depth=12,\n",
       "              min_child_weight=1, missing=None, n_estimators=300, n_jobs=1,\n",
       "              nthread=None, objective='binary:logistic', random_state=0,\n",
       "              reg_alpha=0, reg_lambda=0.01, scale_pos_weight=1, seed=None,\n",
       "              silent=None, subsample=1, verbosity=1)"
      ]
     },
     "execution_count": 9,
     "metadata": {
      "tags": []
     },
     "output_type": "execute_result"
    }
   ],
   "source": [
    "gbm = xgb.XGBClassifier(base_score=0.5, booster='gbtree', \n",
    "               gamma=0, learning_rate=0.01, max_delta_step=0, max_depth=12,\n",
    "              min_child_weight=1, missing=None, n_estimators=300, n_jobs=1,\n",
    "              nthread=None, objective='binary:logistic', random_state=0,\n",
    "              reg_alpha=0, reg_lambda=0.01, scale_pos_weight=1, seed=None,\n",
    "              subsample=1,  verbosity=1)\n",
    "\n",
    "gbm\n"
   ]
  },
  {
   "cell_type": "code",
   "execution_count": 10,
   "metadata": {
    "colab": {
     "base_uri": "https://localhost:8080/",
     "height": 34
    },
    "colab_type": "code",
    "id": "VZM0Vl48OpXe",
    "outputId": "c829a0cf-48e6-457f-bb43-5708e35ef547"
   },
   "outputs": [
    {
     "name": "stdout",
     "output_type": "stream",
     "text": [
      "392.0564489364624 seconds elapsed\n"
     ]
    }
   ],
   "source": [
    "import time\n",
    "\n",
    "t = time.time()\n",
    "gbm.fit(X_train, y_train)\n",
    "\n",
    "print(\"{} seconds elapsed\".format(time.time() - t))"
   ]
  },
  {
   "cell_type": "code",
   "execution_count": 0,
   "metadata": {
    "colab": {},
    "colab_type": "code",
    "id": "7jWX4IA7OCJX"
   },
   "outputs": [],
   "source": [
    "y_pred = gbm.predict(X_test)\n",
    "y_score = gbm.predict_proba(X_test)"
   ]
  },
  {
   "cell_type": "code",
   "execution_count": 0,
   "metadata": {
    "colab": {},
    "colab_type": "code",
    "id": "WzP2ZsN04yqd"
   },
   "outputs": [],
   "source": [
    "y_pred"
   ]
  },
  {
   "cell_type": "code",
   "execution_count": 14,
   "metadata": {
    "colab": {
     "base_uri": "https://localhost:8080/",
     "height": 170
    },
    "colab_type": "code",
    "id": "LSvNJsTAgSMW",
    "outputId": "ca946cc0-0859-4a86-b37b-fa9916cca942"
   },
   "outputs": [
    {
     "name": "stdout",
     "output_type": "stream",
     "text": [
      "              precision    recall  f1-score   support\n",
      "\n",
      "   Non-Fraud       0.83      0.89      0.86      6182\n",
      "       Fraud       0.88      0.81      0.85      6216\n",
      "\n",
      "    accuracy                           0.85     12398\n",
      "   macro avg       0.85      0.85      0.85     12398\n",
      "weighted avg       0.85      0.85      0.85     12398\n",
      "\n"
     ]
    }
   ],
   "source": [
    "from sklearn.metrics import classification_report\n",
    "\n",
    "target_names = ['Non-Fraud', 'Fraud']\n",
    "\n",
    "print(classification_report(y_test, y_pred, target_names=target_names))"
   ]
  },
  {
   "cell_type": "code",
   "execution_count": 15,
   "metadata": {
    "colab": {
     "base_uri": "https://localhost:8080/",
     "height": 34
    },
    "colab_type": "code",
    "id": "41wI0DZmf6-b",
    "outputId": "8bf6424a-ced6-4dcd-8ed6-9be4ca46893a"
   },
   "outputs": [
    {
     "name": "stdout",
     "output_type": "stream",
     "text": [
      "ohen kappa: 0.7016229801209302\n"
     ]
    }
   ],
   "source": [
    "# kappa score\n",
    "from sklearn.metrics import cohen_kappa_score\n",
    "kappa = cohen_kappa_score(y_test, y_pred)\n",
    "print(\"ohen kappa: {}\".format(kappa))"
   ]
  },
  {
   "cell_type": "markdown",
   "metadata": {
    "colab_type": "text",
    "id": "xirAWU363hw-"
   },
   "source": [
    "# Computing the confusion Matrix"
   ]
  },
  {
   "cell_type": "code",
   "execution_count": 16,
   "metadata": {
    "colab": {
     "base_uri": "https://localhost:8080/",
     "height": 628
    },
    "colab_type": "code",
    "id": "3f4vZXOa2yyo",
    "outputId": "b66f4ab9-1cbf-402d-e8a7-27f6e66fb5c8"
   },
   "outputs": [
    {
     "name": "stdout",
     "output_type": "stream",
     "text": [
      "Automatically created module for IPython interactive environment\n",
      "Confusion matrix, without normalization\n",
      "Normalized confusion matrix\n"
     ]
    },
    {
     "data": {
      "image/png": "iVBORw0KGgoAAAANSUhEUgAAAU0AAAEYCAYAAADYs6SAAAAABHNCSVQICAgIfAhkiAAAAAlwSFlz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\nrOwAAAAASUVORK5CYII=\n",
      "text/plain": [
       "<Figure size 432x288 with 2 Axes>"
      ]
     },
     "metadata": {
      "tags": []
     },
     "output_type": "display_data"
    },
    {
     "data": {
      "image/png": "iVBORw0KGgoAAAANSUhEUgAAAUQAAAEYCAYAAAAkpo9KAAAABHNCSVQICAgIfAhkiAAAAAlwSFlz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\nLHFANDNL/h944wxT7BJrjgAAAABJRU5ErkJggg==\n",
      "text/plain": [
       "<Figure size 432x288 with 2 Axes>"
      ]
     },
     "metadata": {
      "tags": []
     },
     "output_type": "display_data"
    }
   ],
   "source": [
    "print(__doc__)\n",
    "\n",
    "import itertools\n",
    "import numpy as np\n",
    "import matplotlib.pyplot as plt\n",
    "\n",
    "from sklearn import svm, datasets\n",
    "from sklearn.model_selection import train_test_split\n",
    "from sklearn.metrics import confusion_matrix\n",
    "\n",
    "\n",
    "def plot_confusion_matrix(cm, classes,\n",
    "                          normalize=False,\n",
    "                          title='Confusion matrix',\n",
    "                          cmap=plt.cm.Blues):\n",
    "    \"\"\"\n",
    "    This function prints and plots the confusion matrix.\n",
    "    Normalization can be applied by setting `normalize=True`.\n",
    "    \"\"\"\n",
    "    if normalize:\n",
    "        cm = cm.astype('float') / cm.sum(axis=1)[:, np.newaxis]\n",
    "        print(\"Normalized confusion matrix\")\n",
    "    else:\n",
    "        print('Confusion matrix, without normalization')\n",
    "\n",
    "\n",
    "    plt.imshow(cm, interpolation='nearest', cmap=cmap)\n",
    "    plt.title(title)\n",
    "    plt.colorbar()\n",
    "    tick_marks = np.arange(len(classes))\n",
    "    plt.xticks(tick_marks, classes, rotation=45)\n",
    "    plt.yticks(tick_marks, classes)\n",
    "\n",
    "    fmt = '.2f' if normalize else 'd'\n",
    "    thresh = cm.max() / 2.\n",
    "    for i, j in itertools.product(range(cm.shape[0]), range(cm.shape[1])):\n",
    "        plt.text(j, i, format(cm[i, j], fmt),\n",
    "                 horizontalalignment=\"center\",\n",
    "                 color=\"white\" if cm[i, j] > thresh else \"black\")\n",
    "\n",
    "    plt.ylabel('True label')\n",
    "    plt.xlabel('Predicted label')\n",
    "    plt.tight_layout()\n",
    "\n",
    "    \n",
    "class_names = [\"Non-fraud\", \"Fraud\"]\n",
    "\n",
    "# Compute confusion matrix\n",
    "cnf_matrix = confusion_matrix(y_test, y_pred)\n",
    "np.set_printoptions(precision=2)\n",
    "\n",
    "# Plot non-normalized confusion matrix\n",
    "plt.figure()\n",
    "plot_confusion_matrix(cnf_matrix, classes=class_names,\n",
    "                      title='Confusion matrix, without normalization')\n",
    "\n",
    "# Plot normalized confusion matrix\n",
    "plt.figure()\n",
    "plot_confusion_matrix(cnf_matrix, classes=class_names, normalize=True,\n",
    "                      title='Normalized confusion matrix')\n",
    "\n",
    "plt.show()"
   ]
  },
  {
   "cell_type": "markdown",
   "metadata": {
    "colab_type": "text",
    "id": "h4Txf7tX3au3"
   },
   "source": [
    "# Ploting the ROC CURVE\n",
    "Considering a binary classification"
   ]
  },
  {
   "cell_type": "code",
   "execution_count": 17,
   "metadata": {
    "colab": {
     "base_uri": "https://localhost:8080/",
     "height": 329
    },
    "colab_type": "code",
    "id": "VnAwYyv-3ZU9",
    "outputId": "92c8d4b0-0a5b-41a4-f8c7-fa11030e8546"
   },
   "outputs": [
    {
     "name": "stdout",
     "output_type": "stream",
     "text": [
      "Automatically created module for IPython interactive environment\n"
     ]
    },
    {
     "name": "stderr",
     "output_type": "stream",
     "text": [
      "Using TensorFlow backend.\n"
     ]
    },
    {
     "data": {
      "image/png": "iVBORw0KGgoAAAANSUhEUgAAAaMAAAEWCAYAAADLkvgyAAAABHNCSVQICAgIfAhkiAAAAAlwSFlz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\nMsYY47n/BzDQ+4XmiXf1AAAAAElFTkSuQmCC\n",
      "text/plain": [
       "<Figure size 432x288 with 1 Axes>"
      ]
     },
     "metadata": {
      "tags": []
     },
     "output_type": "display_data"
    }
   ],
   "source": [
    "print(__doc__)\n",
    "\n",
    "import numpy as np\n",
    "import matplotlib.pyplot as plt\n",
    "from itertools import cycle\n",
    "\n",
    "from sklearn import svm, datasets\n",
    "from sklearn.metrics import roc_curve, auc\n",
    "from sklearn.model_selection import train_test_split\n",
    "from sklearn.preprocessing import label_binarize\n",
    "from sklearn.multiclass import OneVsRestClassifier\n",
    "from scipy import interp\n",
    "from keras.utils import to_categorical\n",
    "\n",
    "fpr, tpr, _ = roc_curve(y_test, y_score[:,1])\n",
    "roc_auc = auc(fpr, tpr)\n",
    "\n",
    "# Plot all ROC curves\n",
    "class_name = ['Down', 'Up', 'Neither']\n",
    "colors = cycle(['aqua', 'darkorange', 'cornflowerblue'])\n",
    "\n",
    "color = 'darkorange'\n",
    "plt.plot(fpr, tpr, color=color, lw=2,\n",
    "         label='ROC curve of class {0} (area = {1:0.2f})'\n",
    "         ''.format(\"Fraud detection\", roc_auc))\n",
    "\n",
    "plt.plot([0, 1], [0, 1], 'k--', lw=2)\n",
    "plt.xlim([0.0, 1.0])\n",
    "plt.ylim([0.0, 1.05])\n",
    "plt.xlabel('False Positive Rate')\n",
    "plt.ylabel('True Positive Rate')\n",
    "plt.title('Some extension of Receiver operating characteristic to multi-class')\n",
    "plt.legend(loc=\"lower right\")\n",
    "plt.show()"
   ]
  },
  {
   "cell_type": "markdown",
   "metadata": {
    "colab_type": "text",
    "id": "ANAQNDmA08sZ"
   },
   "source": [
    "## Trying Cross validation"
   ]
  },
  {
   "cell_type": "code",
   "execution_count": 0,
   "metadata": {
    "colab": {},
    "colab_type": "code",
    "id": "Hnld0NcUjvGN"
   },
   "outputs": [],
   "source": [
    "from sklearn.model_selection import cross_val_score\n",
    "\n",
    "gbm = xgb.XGBClassifier(base_score=0.5, booster='gbtree', \n",
    "               gamma=0, learning_rate=0.01, max_delta_step=0, max_depth=12,\n",
    "              min_child_weight=1, missing=None, n_estimators=300, n_jobs=1,\n",
    "              nthread=None, objective='binary:logistic', random_state=0,\n",
    "              reg_alpha=0, reg_lambda=0.01, scale_pos_weight=1, seed=None,\n",
    "              subsample=1,  verbosity=1)\n"
   ]
  },
  {
   "cell_type": "code",
   "execution_count": 0,
   "metadata": {
    "colab": {},
    "colab_type": "code",
    "id": "7qVUqHX71sZt"
   },
   "outputs": [],
   "source": [
    "from sklearn import datasets\n",
    "from sklearn.model_selection import cross_validate\n",
    "from sklearn.metrics.scorer import make_scorer\n",
    "from sklearn.metrics import confusion_matrix\n",
    " \n",
    "cv_results = cross_validate(gbm, X, y, cv=5, \n",
    "                            scoring=('roc_auc','recall', 'precision', 'f1', 'accuracy'),\n",
    "                            return_train_score=False)\n",
    "\n",
    "score_result = sorted(cv_results.keys())      "
   ]
  },
  {
   "cell_type": "code",
   "execution_count": 42,
   "metadata": {
    "colab": {
     "base_uri": "https://localhost:8080/",
     "height": 136
    },
    "colab_type": "code",
    "id": "OEjifDdJ7TLI",
    "outputId": "f58164eb-eb80-446b-8c7e-18587a20b72c"
   },
   "outputs": [
    {
     "name": "stdout",
     "output_type": "stream",
     "text": [
      "fit_time\t\tMean:442.40\n",
      "score_time\t\tMean:2.71\n",
      "test_roc_auc\t\tMean:0.93\n",
      "test_recall\t\tMean:0.82\n",
      "test_precision\t\tMean:0.87\n",
      "test_f1\t\tMean:0.85\n",
      "test_accuracy\t\tMean:0.85\n"
     ]
    }
   ],
   "source": [
    "for key in cv_results:\n",
    "  print(\"{}\\t\\tMean:{:.2f} -\\t{}\".format(key, cv_results[key].mean(), cv_results[key]))"
   ]
  },
  {
   "cell_type": "code",
   "execution_count": 0,
   "metadata": {
    "colab": {},
    "colab_type": "code",
    "id": "cS8PlxN9Kuap"
   },
   "outputs": [],
   "source": []
  }
 ],
 "metadata": {
  "accelerator": "GPU",
  "colab": {
   "collapsed_sections": [],
   "machine_shape": "hm",
   "name": "xgboost.ipynb",
   "provenance": [],
   "version": "0.3.2"
  },
  "kernelspec": {
   "display_name": "Python 3",
   "language": "python",
   "name": "python3"
  },
  "language_info": {
   "codemirror_mode": {
    "name": "ipython",
    "version": 3
   },
   "file_extension": ".py",
   "mimetype": "text/x-python",
   "name": "python",
   "nbconvert_exporter": "python",
   "pygments_lexer": "ipython3",
   "version": "3.6.7"
  }
 },
 "nbformat": 4,
 "nbformat_minor": 1
}
>>>>>>> 48adf9c3227567eeb2f59f4761b77f8c2d65c42a
